{
  "nbformat": 4,
  "nbformat_minor": 0,
  "metadata": {
    "colab": {
      "name": "Technical_Test_Descartes.ipynb",
      "provenance": [],
      "collapsed_sections": []
    },
    "kernelspec": {
      "name": "python3",
      "display_name": "Python 3"
    },
    "language_info": {
      "name": "python"
    }
  },
  "cells": [
    {
      "cell_type": "markdown",
      "source": [
        "# Data Scientist Technical Test\n",
        "\n",
        "The purpose of this data scienct project is to write a functional and structured code in python using a jupyter notebook, to make a prediction on the provided dataset. The dataset is based on a Kaggle competition (https://www.kaggle.com/c/auto-insurance-fall-2017). It contains insurance claim statistics on the customers.\n",
        "\n",
        "The target to be predicted is `TARGET_FLAG`. \n",
        "The provided dataset is divided in two files: one for the training, design and tuning of models `train_auto.csv` (with targets), and one for the final predictions `test_auto.csv` (with no target provided).\n",
        "\n",
        "- In a first part, we will load and explore the data to get a brief overview of the problem to be solved. \n",
        "- We will also make appropriate transformations for our data to be suitable for learning algorithms. \n",
        "- Then, we will compare the performance of different algorithms on this data, using accurate metrics that we will discuss.\n"
      ],
      "metadata": {
        "id": "6HX1r5avkB1c"
      }
    },
    {
      "cell_type": "markdown",
      "source": [
        "## Load the data"
      ],
      "metadata": {
        "id": "nlwK9Zgl3sKu"
      }
    },
    {
      "cell_type": "markdown",
      "source": [
        "First, we import the necessary libraries and load the data using `pandas`."
      ],
      "metadata": {
        "id": "oMPfBqByoHja"
      }
    },
    {
      "cell_type": "markdown",
      "source": [
        "### Setup: Load libraries and data files"
      ],
      "metadata": {
        "id": "8GGcxwRKq95c"
      }
    },
    {
      "cell_type": "code",
      "source": [
        "import pandas as pd\n",
        "import numpy as np\n",
        "import matplotlib.pyplot as plt\n",
        "import sklearn\n",
        "%matplotlib inline"
      ],
      "metadata": {
        "id": "zekWOAkF4Eir"
      },
      "execution_count": 1,
      "outputs": []
    },
    {
      "cell_type": "code",
      "source": [
        "!git clone https://github.com/descartes-underwriting/data-scientist-technical-test.git\n",
        "path_train = 'data-scientist-technical-test/data/auto-insurance-fall-2017/train_auto.csv'\n",
        "path_test = 'data-scientist-technical-test/data/auto-insurance-fall-2017/test_auto.csv'\n",
        "\n",
        "df_train = pd.read_csv(path_train)\n",
        "df_test = pd.read_csv(path_test)"
      ],
      "metadata": {
        "colab": {
          "base_uri": "https://localhost:8080/"
        },
        "id": "zWCJfaFHazQJ",
        "outputId": "2bbc581d-2907-4d2a-d9ba-5e074a97b722"
      },
      "execution_count": 2,
      "outputs": [
        {
          "output_type": "stream",
          "name": "stdout",
          "text": [
            "fatal: destination path 'data-scientist-technical-test' already exists and is not an empty directory.\n"
          ]
        }
      ]
    },
    {
      "cell_type": "markdown",
      "source": [
        "We will begin by exploring the train data, and keep the test data apart for the moment (in order not to bias our models for the final evaluations). Let us take a look at some instances and general info:"
      ],
      "metadata": {
        "id": "GNztRaJ-oWz-"
      }
    },
    {
      "cell_type": "markdown",
      "source": [
        "### First explorations"
      ],
      "metadata": {
        "id": "yhY2yAs2rFk2"
      }
    },
    {
      "cell_type": "code",
      "source": [
        "pd.set_option('display.max_columns', 30)\n",
        "df_train.head(10)"
      ],
      "metadata": {
        "id": "5A3TyvT8bHq2",
        "colab": {
          "base_uri": "https://localhost:8080/",
          "height": 363
        },
        "outputId": "bf609d19-99c6-4d5c-f4ee-53f2ced52b5d"
      },
      "execution_count": 3,
      "outputs": [
        {
          "output_type": "execute_result",
          "data": {
            "text/plain": [
              "   INDEX  TARGET_FLAG  TARGET_AMT  KIDSDRIV   AGE  HOMEKIDS   YOJ    INCOME  \\\n",
              "0      1            0         0.0         0  60.0         0  11.0   $67,349   \n",
              "1      2            0         0.0         0  43.0         0  11.0   $91,449   \n",
              "2      4            0         0.0         0  35.0         1  10.0   $16,039   \n",
              "3      5            0         0.0         0  51.0         0  14.0       NaN   \n",
              "4      6            0         0.0         0  50.0         0   NaN  $114,986   \n",
              "5      7            1      2946.0         0  34.0         1  12.0  $125,301   \n",
              "6      8            0         0.0         0  54.0         0   NaN   $18,755   \n",
              "7     11            1      4021.0         1  37.0         2   NaN  $107,961   \n",
              "8     12            1      2501.0         0  34.0         0  10.0   $62,978   \n",
              "9     13            0         0.0         0  50.0         0   7.0  $106,952   \n",
              "\n",
              "  PARENT1  HOME_VAL MSTATUS  SEX      EDUCATION            JOB  TRAVTIME  \\\n",
              "0      No        $0    z_No    M            PhD   Professional        14   \n",
              "1      No  $257,252    z_No    M  z_High School  z_Blue Collar        22   \n",
              "2      No  $124,191     Yes  z_F  z_High School       Clerical         5   \n",
              "3      No  $306,251     Yes    M   <High School  z_Blue Collar        32   \n",
              "4      No  $243,925     Yes  z_F            PhD         Doctor        36   \n",
              "5     Yes        $0    z_No  z_F      Bachelors  z_Blue Collar        46   \n",
              "6      No       NaN     Yes  z_F   <High School  z_Blue Collar        33   \n",
              "7      No  $333,680     Yes    M      Bachelors  z_Blue Collar        44   \n",
              "8      No        $0    z_No  z_F      Bachelors       Clerical        34   \n",
              "9      No        $0    z_No    M      Bachelors   Professional        48   \n",
              "\n",
              "      CAR_USE BLUEBOOK  TIF    CAR_TYPE RED_CAR OLDCLAIM  CLM_FREQ REVOKED  \\\n",
              "0     Private  $14,230   11     Minivan     yes   $4,461         2      No   \n",
              "1  Commercial  $14,940    1     Minivan     yes       $0         0      No   \n",
              "2     Private   $4,010    4       z_SUV      no  $38,690         2      No   \n",
              "3     Private  $15,440    7     Minivan     yes       $0         0      No   \n",
              "4     Private  $18,000    1       z_SUV      no  $19,217         2     Yes   \n",
              "5  Commercial  $17,430    1  Sports Car      no       $0         0      No   \n",
              "6     Private   $8,780    1       z_SUV      no       $0         0      No   \n",
              "7  Commercial  $16,970    1         Van     yes   $2,374         1     Yes   \n",
              "8     Private  $11,200    1       z_SUV      no       $0         0      No   \n",
              "9  Commercial  $18,510    7         Van      no       $0         0      No   \n",
              "\n",
              "   MVR_PTS  CAR_AGE             URBANICITY  \n",
              "0        3     18.0    Highly Urban/ Urban  \n",
              "1        0      1.0    Highly Urban/ Urban  \n",
              "2        3     10.0    Highly Urban/ Urban  \n",
              "3        0      6.0    Highly Urban/ Urban  \n",
              "4        3     17.0    Highly Urban/ Urban  \n",
              "5        0      7.0    Highly Urban/ Urban  \n",
              "6        0      1.0    Highly Urban/ Urban  \n",
              "7       10      7.0    Highly Urban/ Urban  \n",
              "8        0      1.0    Highly Urban/ Urban  \n",
              "9        1     17.0  z_Highly Rural/ Rural  "
            ],
            "text/html": [
              "\n",
              "  <div id=\"df-d4015750-2f2d-4136-ae47-7c94d77de874\">\n",
              "    <div class=\"colab-df-container\">\n",
              "      <div>\n",
              "<style scoped>\n",
              "    .dataframe tbody tr th:only-of-type {\n",
              "        vertical-align: middle;\n",
              "    }\n",
              "\n",
              "    .dataframe tbody tr th {\n",
              "        vertical-align: top;\n",
              "    }\n",
              "\n",
              "    .dataframe thead th {\n",
              "        text-align: right;\n",
              "    }\n",
              "</style>\n",
              "<table border=\"1\" class=\"dataframe\">\n",
              "  <thead>\n",
              "    <tr style=\"text-align: right;\">\n",
              "      <th></th>\n",
              "      <th>INDEX</th>\n",
              "      <th>TARGET_FLAG</th>\n",
              "      <th>TARGET_AMT</th>\n",
              "      <th>KIDSDRIV</th>\n",
              "      <th>AGE</th>\n",
              "      <th>HOMEKIDS</th>\n",
              "      <th>YOJ</th>\n",
              "      <th>INCOME</th>\n",
              "      <th>PARENT1</th>\n",
              "      <th>HOME_VAL</th>\n",
              "      <th>MSTATUS</th>\n",
              "      <th>SEX</th>\n",
              "      <th>EDUCATION</th>\n",
              "      <th>JOB</th>\n",
              "      <th>TRAVTIME</th>\n",
              "      <th>CAR_USE</th>\n",
              "      <th>BLUEBOOK</th>\n",
              "      <th>TIF</th>\n",
              "      <th>CAR_TYPE</th>\n",
              "      <th>RED_CAR</th>\n",
              "      <th>OLDCLAIM</th>\n",
              "      <th>CLM_FREQ</th>\n",
              "      <th>REVOKED</th>\n",
              "      <th>MVR_PTS</th>\n",
              "      <th>CAR_AGE</th>\n",
              "      <th>URBANICITY</th>\n",
              "    </tr>\n",
              "  </thead>\n",
              "  <tbody>\n",
              "    <tr>\n",
              "      <th>0</th>\n",
              "      <td>1</td>\n",
              "      <td>0</td>\n",
              "      <td>0.0</td>\n",
              "      <td>0</td>\n",
              "      <td>60.0</td>\n",
              "      <td>0</td>\n",
              "      <td>11.0</td>\n",
              "      <td>$67,349</td>\n",
              "      <td>No</td>\n",
              "      <td>$0</td>\n",
              "      <td>z_No</td>\n",
              "      <td>M</td>\n",
              "      <td>PhD</td>\n",
              "      <td>Professional</td>\n",
              "      <td>14</td>\n",
              "      <td>Private</td>\n",
              "      <td>$14,230</td>\n",
              "      <td>11</td>\n",
              "      <td>Minivan</td>\n",
              "      <td>yes</td>\n",
              "      <td>$4,461</td>\n",
              "      <td>2</td>\n",
              "      <td>No</td>\n",
              "      <td>3</td>\n",
              "      <td>18.0</td>\n",
              "      <td>Highly Urban/ Urban</td>\n",
              "    </tr>\n",
              "    <tr>\n",
              "      <th>1</th>\n",
              "      <td>2</td>\n",
              "      <td>0</td>\n",
              "      <td>0.0</td>\n",
              "      <td>0</td>\n",
              "      <td>43.0</td>\n",
              "      <td>0</td>\n",
              "      <td>11.0</td>\n",
              "      <td>$91,449</td>\n",
              "      <td>No</td>\n",
              "      <td>$257,252</td>\n",
              "      <td>z_No</td>\n",
              "      <td>M</td>\n",
              "      <td>z_High School</td>\n",
              "      <td>z_Blue Collar</td>\n",
              "      <td>22</td>\n",
              "      <td>Commercial</td>\n",
              "      <td>$14,940</td>\n",
              "      <td>1</td>\n",
              "      <td>Minivan</td>\n",
              "      <td>yes</td>\n",
              "      <td>$0</td>\n",
              "      <td>0</td>\n",
              "      <td>No</td>\n",
              "      <td>0</td>\n",
              "      <td>1.0</td>\n",
              "      <td>Highly Urban/ Urban</td>\n",
              "    </tr>\n",
              "    <tr>\n",
              "      <th>2</th>\n",
              "      <td>4</td>\n",
              "      <td>0</td>\n",
              "      <td>0.0</td>\n",
              "      <td>0</td>\n",
              "      <td>35.0</td>\n",
              "      <td>1</td>\n",
              "      <td>10.0</td>\n",
              "      <td>$16,039</td>\n",
              "      <td>No</td>\n",
              "      <td>$124,191</td>\n",
              "      <td>Yes</td>\n",
              "      <td>z_F</td>\n",
              "      <td>z_High School</td>\n",
              "      <td>Clerical</td>\n",
              "      <td>5</td>\n",
              "      <td>Private</td>\n",
              "      <td>$4,010</td>\n",
              "      <td>4</td>\n",
              "      <td>z_SUV</td>\n",
              "      <td>no</td>\n",
              "      <td>$38,690</td>\n",
              "      <td>2</td>\n",
              "      <td>No</td>\n",
              "      <td>3</td>\n",
              "      <td>10.0</td>\n",
              "      <td>Highly Urban/ Urban</td>\n",
              "    </tr>\n",
              "    <tr>\n",
              "      <th>3</th>\n",
              "      <td>5</td>\n",
              "      <td>0</td>\n",
              "      <td>0.0</td>\n",
              "      <td>0</td>\n",
              "      <td>51.0</td>\n",
              "      <td>0</td>\n",
              "      <td>14.0</td>\n",
              "      <td>NaN</td>\n",
              "      <td>No</td>\n",
              "      <td>$306,251</td>\n",
              "      <td>Yes</td>\n",
              "      <td>M</td>\n",
              "      <td>&lt;High School</td>\n",
              "      <td>z_Blue Collar</td>\n",
              "      <td>32</td>\n",
              "      <td>Private</td>\n",
              "      <td>$15,440</td>\n",
              "      <td>7</td>\n",
              "      <td>Minivan</td>\n",
              "      <td>yes</td>\n",
              "      <td>$0</td>\n",
              "      <td>0</td>\n",
              "      <td>No</td>\n",
              "      <td>0</td>\n",
              "      <td>6.0</td>\n",
              "      <td>Highly Urban/ Urban</td>\n",
              "    </tr>\n",
              "    <tr>\n",
              "      <th>4</th>\n",
              "      <td>6</td>\n",
              "      <td>0</td>\n",
              "      <td>0.0</td>\n",
              "      <td>0</td>\n",
              "      <td>50.0</td>\n",
              "      <td>0</td>\n",
              "      <td>NaN</td>\n",
              "      <td>$114,986</td>\n",
              "      <td>No</td>\n",
              "      <td>$243,925</td>\n",
              "      <td>Yes</td>\n",
              "      <td>z_F</td>\n",
              "      <td>PhD</td>\n",
              "      <td>Doctor</td>\n",
              "      <td>36</td>\n",
              "      <td>Private</td>\n",
              "      <td>$18,000</td>\n",
              "      <td>1</td>\n",
              "      <td>z_SUV</td>\n",
              "      <td>no</td>\n",
              "      <td>$19,217</td>\n",
              "      <td>2</td>\n",
              "      <td>Yes</td>\n",
              "      <td>3</td>\n",
              "      <td>17.0</td>\n",
              "      <td>Highly Urban/ Urban</td>\n",
              "    </tr>\n",
              "    <tr>\n",
              "      <th>5</th>\n",
              "      <td>7</td>\n",
              "      <td>1</td>\n",
              "      <td>2946.0</td>\n",
              "      <td>0</td>\n",
              "      <td>34.0</td>\n",
              "      <td>1</td>\n",
              "      <td>12.0</td>\n",
              "      <td>$125,301</td>\n",
              "      <td>Yes</td>\n",
              "      <td>$0</td>\n",
              "      <td>z_No</td>\n",
              "      <td>z_F</td>\n",
              "      <td>Bachelors</td>\n",
              "      <td>z_Blue Collar</td>\n",
              "      <td>46</td>\n",
              "      <td>Commercial</td>\n",
              "      <td>$17,430</td>\n",
              "      <td>1</td>\n",
              "      <td>Sports Car</td>\n",
              "      <td>no</td>\n",
              "      <td>$0</td>\n",
              "      <td>0</td>\n",
              "      <td>No</td>\n",
              "      <td>0</td>\n",
              "      <td>7.0</td>\n",
              "      <td>Highly Urban/ Urban</td>\n",
              "    </tr>\n",
              "    <tr>\n",
              "      <th>6</th>\n",
              "      <td>8</td>\n",
              "      <td>0</td>\n",
              "      <td>0.0</td>\n",
              "      <td>0</td>\n",
              "      <td>54.0</td>\n",
              "      <td>0</td>\n",
              "      <td>NaN</td>\n",
              "      <td>$18,755</td>\n",
              "      <td>No</td>\n",
              "      <td>NaN</td>\n",
              "      <td>Yes</td>\n",
              "      <td>z_F</td>\n",
              "      <td>&lt;High School</td>\n",
              "      <td>z_Blue Collar</td>\n",
              "      <td>33</td>\n",
              "      <td>Private</td>\n",
              "      <td>$8,780</td>\n",
              "      <td>1</td>\n",
              "      <td>z_SUV</td>\n",
              "      <td>no</td>\n",
              "      <td>$0</td>\n",
              "      <td>0</td>\n",
              "      <td>No</td>\n",
              "      <td>0</td>\n",
              "      <td>1.0</td>\n",
              "      <td>Highly Urban/ Urban</td>\n",
              "    </tr>\n",
              "    <tr>\n",
              "      <th>7</th>\n",
              "      <td>11</td>\n",
              "      <td>1</td>\n",
              "      <td>4021.0</td>\n",
              "      <td>1</td>\n",
              "      <td>37.0</td>\n",
              "      <td>2</td>\n",
              "      <td>NaN</td>\n",
              "      <td>$107,961</td>\n",
              "      <td>No</td>\n",
              "      <td>$333,680</td>\n",
              "      <td>Yes</td>\n",
              "      <td>M</td>\n",
              "      <td>Bachelors</td>\n",
              "      <td>z_Blue Collar</td>\n",
              "      <td>44</td>\n",
              "      <td>Commercial</td>\n",
              "      <td>$16,970</td>\n",
              "      <td>1</td>\n",
              "      <td>Van</td>\n",
              "      <td>yes</td>\n",
              "      <td>$2,374</td>\n",
              "      <td>1</td>\n",
              "      <td>Yes</td>\n",
              "      <td>10</td>\n",
              "      <td>7.0</td>\n",
              "      <td>Highly Urban/ Urban</td>\n",
              "    </tr>\n",
              "    <tr>\n",
              "      <th>8</th>\n",
              "      <td>12</td>\n",
              "      <td>1</td>\n",
              "      <td>2501.0</td>\n",
              "      <td>0</td>\n",
              "      <td>34.0</td>\n",
              "      <td>0</td>\n",
              "      <td>10.0</td>\n",
              "      <td>$62,978</td>\n",
              "      <td>No</td>\n",
              "      <td>$0</td>\n",
              "      <td>z_No</td>\n",
              "      <td>z_F</td>\n",
              "      <td>Bachelors</td>\n",
              "      <td>Clerical</td>\n",
              "      <td>34</td>\n",
              "      <td>Private</td>\n",
              "      <td>$11,200</td>\n",
              "      <td>1</td>\n",
              "      <td>z_SUV</td>\n",
              "      <td>no</td>\n",
              "      <td>$0</td>\n",
              "      <td>0</td>\n",
              "      <td>No</td>\n",
              "      <td>0</td>\n",
              "      <td>1.0</td>\n",
              "      <td>Highly Urban/ Urban</td>\n",
              "    </tr>\n",
              "    <tr>\n",
              "      <th>9</th>\n",
              "      <td>13</td>\n",
              "      <td>0</td>\n",
              "      <td>0.0</td>\n",
              "      <td>0</td>\n",
              "      <td>50.0</td>\n",
              "      <td>0</td>\n",
              "      <td>7.0</td>\n",
              "      <td>$106,952</td>\n",
              "      <td>No</td>\n",
              "      <td>$0</td>\n",
              "      <td>z_No</td>\n",
              "      <td>M</td>\n",
              "      <td>Bachelors</td>\n",
              "      <td>Professional</td>\n",
              "      <td>48</td>\n",
              "      <td>Commercial</td>\n",
              "      <td>$18,510</td>\n",
              "      <td>7</td>\n",
              "      <td>Van</td>\n",
              "      <td>no</td>\n",
              "      <td>$0</td>\n",
              "      <td>0</td>\n",
              "      <td>No</td>\n",
              "      <td>1</td>\n",
              "      <td>17.0</td>\n",
              "      <td>z_Highly Rural/ Rural</td>\n",
              "    </tr>\n",
              "  </tbody>\n",
              "</table>\n",
              "</div>\n",
              "      <button class=\"colab-df-convert\" onclick=\"convertToInteractive('df-d4015750-2f2d-4136-ae47-7c94d77de874')\"\n",
              "              title=\"Convert this dataframe to an interactive table.\"\n",
              "              style=\"display:none;\">\n",
              "        \n",
              "  <svg xmlns=\"http://www.w3.org/2000/svg\" height=\"24px\"viewBox=\"0 0 24 24\"\n",
              "       width=\"24px\">\n",
              "    <path d=\"M0 0h24v24H0V0z\" fill=\"none\"/>\n",
              "    <path d=\"M18.56 5.44l.94 2.06.94-2.06 2.06-.94-2.06-.94-.94-2.06-.94 2.06-2.06.94zm-11 1L8.5 8.5l.94-2.06 2.06-.94-2.06-.94L8.5 2.5l-.94 2.06-2.06.94zm10 10l.94 2.06.94-2.06 2.06-.94-2.06-.94-.94-2.06-.94 2.06-2.06.94z\"/><path d=\"M17.41 7.96l-1.37-1.37c-.4-.4-.92-.59-1.43-.59-.52 0-1.04.2-1.43.59L10.3 9.45l-7.72 7.72c-.78.78-.78 2.05 0 2.83L4 21.41c.39.39.9.59 1.41.59.51 0 1.02-.2 1.41-.59l7.78-7.78 2.81-2.81c.8-.78.8-2.07 0-2.86zM5.41 20L4 18.59l7.72-7.72 1.47 1.35L5.41 20z\"/>\n",
              "  </svg>\n",
              "      </button>\n",
              "      \n",
              "  <style>\n",
              "    .colab-df-container {\n",
              "      display:flex;\n",
              "      flex-wrap:wrap;\n",
              "      gap: 12px;\n",
              "    }\n",
              "\n",
              "    .colab-df-convert {\n",
              "      background-color: #E8F0FE;\n",
              "      border: none;\n",
              "      border-radius: 50%;\n",
              "      cursor: pointer;\n",
              "      display: none;\n",
              "      fill: #1967D2;\n",
              "      height: 32px;\n",
              "      padding: 0 0 0 0;\n",
              "      width: 32px;\n",
              "    }\n",
              "\n",
              "    .colab-df-convert:hover {\n",
              "      background-color: #E2EBFA;\n",
              "      box-shadow: 0px 1px 2px rgba(60, 64, 67, 0.3), 0px 1px 3px 1px rgba(60, 64, 67, 0.15);\n",
              "      fill: #174EA6;\n",
              "    }\n",
              "\n",
              "    [theme=dark] .colab-df-convert {\n",
              "      background-color: #3B4455;\n",
              "      fill: #D2E3FC;\n",
              "    }\n",
              "\n",
              "    [theme=dark] .colab-df-convert:hover {\n",
              "      background-color: #434B5C;\n",
              "      box-shadow: 0px 1px 3px 1px rgba(0, 0, 0, 0.15);\n",
              "      filter: drop-shadow(0px 1px 2px rgba(0, 0, 0, 0.3));\n",
              "      fill: #FFFFFF;\n",
              "    }\n",
              "  </style>\n",
              "\n",
              "      <script>\n",
              "        const buttonEl =\n",
              "          document.querySelector('#df-d4015750-2f2d-4136-ae47-7c94d77de874 button.colab-df-convert');\n",
              "        buttonEl.style.display =\n",
              "          google.colab.kernel.accessAllowed ? 'block' : 'none';\n",
              "\n",
              "        async function convertToInteractive(key) {\n",
              "          const element = document.querySelector('#df-d4015750-2f2d-4136-ae47-7c94d77de874');\n",
              "          const dataTable =\n",
              "            await google.colab.kernel.invokeFunction('convertToInteractive',\n",
              "                                                     [key], {});\n",
              "          if (!dataTable) return;\n",
              "\n",
              "          const docLinkHtml = 'Like what you see? Visit the ' +\n",
              "            '<a target=\"_blank\" href=https://colab.research.google.com/notebooks/data_table.ipynb>data table notebook</a>'\n",
              "            + ' to learn more about interactive tables.';\n",
              "          element.innerHTML = '';\n",
              "          dataTable['output_type'] = 'display_data';\n",
              "          await google.colab.output.renderOutput(dataTable, element);\n",
              "          const docLink = document.createElement('div');\n",
              "          docLink.innerHTML = docLinkHtml;\n",
              "          element.appendChild(docLink);\n",
              "        }\n",
              "      </script>\n",
              "    </div>\n",
              "  </div>\n",
              "  "
            ]
          },
          "metadata": {},
          "execution_count": 3
        }
      ]
    },
    {
      "cell_type": "code",
      "source": [
        "df_train.info()"
      ],
      "metadata": {
        "colab": {
          "base_uri": "https://localhost:8080/"
        },
        "id": "o17MGlDshEVu",
        "outputId": "0faf9d03-977b-4d05-9dbd-7de12fe9a206"
      },
      "execution_count": 4,
      "outputs": [
        {
          "output_type": "stream",
          "name": "stdout",
          "text": [
            "<class 'pandas.core.frame.DataFrame'>\n",
            "RangeIndex: 8161 entries, 0 to 8160\n",
            "Data columns (total 26 columns):\n",
            " #   Column       Non-Null Count  Dtype  \n",
            "---  ------       --------------  -----  \n",
            " 0   INDEX        8161 non-null   int64  \n",
            " 1   TARGET_FLAG  8161 non-null   int64  \n",
            " 2   TARGET_AMT   8161 non-null   float64\n",
            " 3   KIDSDRIV     8161 non-null   int64  \n",
            " 4   AGE          8155 non-null   float64\n",
            " 5   HOMEKIDS     8161 non-null   int64  \n",
            " 6   YOJ          7707 non-null   float64\n",
            " 7   INCOME       7716 non-null   object \n",
            " 8   PARENT1      8161 non-null   object \n",
            " 9   HOME_VAL     7697 non-null   object \n",
            " 10  MSTATUS      8161 non-null   object \n",
            " 11  SEX          8161 non-null   object \n",
            " 12  EDUCATION    8161 non-null   object \n",
            " 13  JOB          7635 non-null   object \n",
            " 14  TRAVTIME     8161 non-null   int64  \n",
            " 15  CAR_USE      8161 non-null   object \n",
            " 16  BLUEBOOK     8161 non-null   object \n",
            " 17  TIF          8161 non-null   int64  \n",
            " 18  CAR_TYPE     8161 non-null   object \n",
            " 19  RED_CAR      8161 non-null   object \n",
            " 20  OLDCLAIM     8161 non-null   object \n",
            " 21  CLM_FREQ     8161 non-null   int64  \n",
            " 22  REVOKED      8161 non-null   object \n",
            " 23  MVR_PTS      8161 non-null   int64  \n",
            " 24  CAR_AGE      7651 non-null   float64\n",
            " 25  URBANICITY   8161 non-null   object \n",
            "dtypes: float64(4), int64(8), object(14)\n",
            "memory usage: 1.6+ MB\n"
          ]
        }
      ]
    },
    {
      "cell_type": "markdown",
      "source": [
        "The training dataset has 8161 instances.\n",
        "\n",
        "We have 23 attributes in the data (excluding `INDEX` and the two `TARGET` labels), including objects (strings), integers and floats:\n",
        "\n",
        "- 6 integer attributes (`KIDSDRIV`, `HOMEKIDS`, `TRAVTIME`, `TIF`, `CLM_FREQ`,`MVR_PTS`)\n",
        "\n",
        "- 3 float attributes (`AGE`,`YOJ`,`CAR_AGE`)\n",
        "\n",
        "- 10 \"object\" attributes which seem to be categorial (`PARENT1`, `MSTATUS`, `SEX`, `EDUCATION`, `JOB`,`CAR_USE`,`CAR_TYPE`,`RED_CAR`, `REVOKED`, `URBANICITY`). \n",
        "\n",
        "- 4 \"object\" attributes which are amounts in dollars and **should be converted back to a float type** (`INCOME`,`HOME_VAL`, `BLUEBOOK`, `OLDCLAIM`)\n"
      ],
      "metadata": {
        "id": "QZ9GueoQmovF"
      }
    },
    {
      "cell_type": "code",
      "source": [
        "for key in ['INCOME','HOME_VAL','BLUEBOOK','OLDCLAIM']:\n",
        "  df_train[key] = df_train[key].str.replace('$','')\n",
        "  df_train[key] = df_train[key].str.replace(',','.').astype(float)"
      ],
      "metadata": {
        "colab": {
          "base_uri": "https://localhost:8080/"
        },
        "id": "A88Mz-bYLtmP",
        "outputId": "6ea8478c-678c-4621-b62a-ab5a69c6b857"
      },
      "execution_count": 5,
      "outputs": [
        {
          "output_type": "stream",
          "name": "stderr",
          "text": [
            "/usr/local/lib/python3.7/dist-packages/ipykernel_launcher.py:2: FutureWarning: The default value of regex will change from True to False in a future version. In addition, single character regular expressions will *not* be treated as literal strings when regex=True.\n",
            "  \n"
          ]
        }
      ]
    },
    {
      "cell_type": "markdown",
      "source": [
        "We can check which categorial features are binary and which one contain more labels:"
      ],
      "metadata": {
        "id": "Zco4mwcuYElO"
      }
    },
    {
      "cell_type": "code",
      "source": [
        "categorial_attributes = ['PARENT1','MSTATUS','SEX','EDUCATION','JOB','CAR_USE','CAR_TYPE','RED_CAR','REVOKED','URBANICITY']\n",
        "binary_attributes = []\n",
        "multiclass_attributes = []\n",
        "\n",
        "for attribute in categorial_attributes:\n",
        "  assert len(df_train[attribute].unique()) > 1 #Ensure that there is no constant feature\n",
        "  if len(df_train[attribute].unique()) == 2:\n",
        "    binary_attributes.append(attribute)\n",
        "  else:\n",
        "    multiclass_attributes.append(attribute)\n",
        "\n",
        "print(\"Binary:\", binary_attributes)\n",
        "print(\"Multiclass:\", multiclass_attributes)"
      ],
      "metadata": {
        "colab": {
          "base_uri": "https://localhost:8080/"
        },
        "id": "ghBdFGa7YBoi",
        "outputId": "2982e980-ec92-43db-9f50-252687f2fa6f"
      },
      "execution_count": 6,
      "outputs": [
        {
          "output_type": "stream",
          "name": "stdout",
          "text": [
            "Binary: ['PARENT1', 'MSTATUS', 'SEX', 'CAR_USE', 'RED_CAR', 'REVOKED', 'URBANICITY']\n",
            "Multiclass: ['EDUCATION', 'JOB', 'CAR_TYPE']\n"
          ]
        }
      ]
    },
    {
      "cell_type": "markdown",
      "source": [
        "Also, five rows (`YOJ,INCOME,HOME_VAL,JOB,CAR_AGE`) seem to have **missing or null values**. \n",
        "\n",
        "There can be different explanations for these missing values:\n",
        "- it could be that the feature is not relevant for these clients (e.g. no income, no job, not homeowner, or no car yet)\n",
        "- also, the information could just be missing and/or not disclaimed.\n",
        "\n",
        "In order not to indrocude potential biases in the training, we will fill the missing numerical values with the mean given by the ones that are present, and the missing categorical values will be considered as a category among others.\n",
        "\n",
        "We will deal with these before the learning phase and keep them as is for the moment."
      ],
      "metadata": {
        "id": "_U2LsDP6LstF"
      }
    },
    {
      "cell_type": "markdown",
      "source": [
        "\n",
        "Now do some small checks:"
      ],
      "metadata": {
        "id": "f1wrooTkOrIT"
      }
    },
    {
      "cell_type": "code",
      "source": [
        "print(\"INDEX contains unique values:\", len(df_train['INDEX'].unique()) == len(df_train['INDEX']))\n",
        "print(\"TARGET_FLAG values:\", df_train['TARGET_FLAG'].unique())\n",
        "print(\"TARGET_AMT values when TARGET_FLAG is 0:\", df_train[df_train['TARGET_FLAG'] == 0]['TARGET_AMT'].unique())\n",
        "print(\"TARGET_AMT minimum value when TARGET_FLAG is 1:\", np.min(df_train[df_train['TARGET_FLAG'] == 1]['TARGET_AMT'].unique()))"
      ],
      "metadata": {
        "colab": {
          "base_uri": "https://localhost:8080/"
        },
        "id": "lsFihtmdhGNt",
        "outputId": "6c7561b9-0396-4d7e-c5ef-11d6ded8360f"
      },
      "execution_count": 7,
      "outputs": [
        {
          "output_type": "stream",
          "name": "stdout",
          "text": [
            "INDEX contains unique values: True\n",
            "TARGET_FLAG values: [0 1]\n",
            "TARGET_AMT values when TARGET_FLAG is 0: [0.]\n",
            "TARGET_AMT minimum value when TARGET_FLAG is 1: 30.277280146\n"
          ]
        }
      ]
    },
    {
      "cell_type": "markdown",
      "source": [
        "As confirmed by the cell above, the `INDEX` column contains only a unique identifier for each data instance, and we can consider that this information won't be relevant for our models (it could even introduce undesired biases). Thus, **we can safely drop it**.\n",
        "\n",
        "Also, the `TARGET_FLAG` variable that we aim at predicting is a **binary variable, which means our task is a classification problem**.\n",
        "\n",
        "Finally, the `TARGET_AMT` fully determines the value of `TARGET_FLAG` (1 if and only if `TARGET_AMT` is positive), and we will discard both these attributes from the input data since `TARGET_FLAG` is the variable to predict here.\n",
        "\n",
        "Note that we keep these last two for the moment and will discard them after we perform a train/validation split."
      ],
      "metadata": {
        "id": "V-hhIAULpJVp"
      }
    },
    {
      "cell_type": "code",
      "source": [
        "df_train = df_train.drop(columns=['INDEX'])\n",
        "df_train.describe()"
      ],
      "metadata": {
        "colab": {
          "base_uri": "https://localhost:8080/",
          "height": 300
        },
        "id": "f_3LppchOsaF",
        "outputId": "afcf9cfd-95eb-4d4a-eb6c-207c0b3233f4"
      },
      "execution_count": 8,
      "outputs": [
        {
          "output_type": "execute_result",
          "data": {
            "text/plain": [
              "       TARGET_FLAG     TARGET_AMT     KIDSDRIV          AGE     HOMEKIDS  \\\n",
              "count  8161.000000    8161.000000  8161.000000  8155.000000  8161.000000   \n",
              "mean      0.263816    1504.324648     0.171057    44.790313     0.721235   \n",
              "std       0.440728    4704.026930     0.511534     8.627589     1.116323   \n",
              "min       0.000000       0.000000     0.000000    16.000000     0.000000   \n",
              "25%       0.000000       0.000000     0.000000    39.000000     0.000000   \n",
              "50%       0.000000       0.000000     0.000000    45.000000     0.000000   \n",
              "75%       1.000000    1036.000000     0.000000    51.000000     1.000000   \n",
              "max       1.000000  107586.136160     4.000000    81.000000     5.000000   \n",
              "\n",
              "               YOJ       INCOME     HOME_VAL     TRAVTIME     BLUEBOOK  \\\n",
              "count  7707.000000  7716.000000  7697.000000  8161.000000  8161.000000   \n",
              "mean     10.499286    64.757855   154.867290    33.485725    15.709900   \n",
              "std       4.092474    60.768449   129.123775    15.908333     8.419734   \n",
              "min       0.000000     0.000000     0.000000     5.000000     1.500000   \n",
              "25%       9.000000    28.696250     0.000000    22.000000     9.280000   \n",
              "50%      11.000000    54.799500   161.160000    33.000000    14.440000   \n",
              "75%      13.000000    87.259000   238.724000    44.000000    20.850000   \n",
              "max      23.000000   997.000000   885.282000   142.000000    69.740000   \n",
              "\n",
              "               TIF     OLDCLAIM     CLM_FREQ      MVR_PTS      CAR_AGE  \n",
              "count  8161.000000  8161.000000  8161.000000  8161.000000  7651.000000  \n",
              "mean      5.351305    13.313173     0.798554     1.695503     8.328323  \n",
              "std       4.146635    85.538813     1.158453     2.147112     5.700742  \n",
              "min       1.000000     0.000000     0.000000     0.000000    -3.000000  \n",
              "25%       1.000000     0.000000     0.000000     0.000000     1.000000  \n",
              "50%       4.000000     0.000000     0.000000     1.000000     8.000000  \n",
              "75%       7.000000     4.906000     2.000000     3.000000    12.000000  \n",
              "max      25.000000   999.000000     5.000000    13.000000    28.000000  "
            ],
            "text/html": [
              "\n",
              "  <div id=\"df-767abb2f-68b2-4fcf-91a1-e8126a073896\">\n",
              "    <div class=\"colab-df-container\">\n",
              "      <div>\n",
              "<style scoped>\n",
              "    .dataframe tbody tr th:only-of-type {\n",
              "        vertical-align: middle;\n",
              "    }\n",
              "\n",
              "    .dataframe tbody tr th {\n",
              "        vertical-align: top;\n",
              "    }\n",
              "\n",
              "    .dataframe thead th {\n",
              "        text-align: right;\n",
              "    }\n",
              "</style>\n",
              "<table border=\"1\" class=\"dataframe\">\n",
              "  <thead>\n",
              "    <tr style=\"text-align: right;\">\n",
              "      <th></th>\n",
              "      <th>TARGET_FLAG</th>\n",
              "      <th>TARGET_AMT</th>\n",
              "      <th>KIDSDRIV</th>\n",
              "      <th>AGE</th>\n",
              "      <th>HOMEKIDS</th>\n",
              "      <th>YOJ</th>\n",
              "      <th>INCOME</th>\n",
              "      <th>HOME_VAL</th>\n",
              "      <th>TRAVTIME</th>\n",
              "      <th>BLUEBOOK</th>\n",
              "      <th>TIF</th>\n",
              "      <th>OLDCLAIM</th>\n",
              "      <th>CLM_FREQ</th>\n",
              "      <th>MVR_PTS</th>\n",
              "      <th>CAR_AGE</th>\n",
              "    </tr>\n",
              "  </thead>\n",
              "  <tbody>\n",
              "    <tr>\n",
              "      <th>count</th>\n",
              "      <td>8161.000000</td>\n",
              "      <td>8161.000000</td>\n",
              "      <td>8161.000000</td>\n",
              "      <td>8155.000000</td>\n",
              "      <td>8161.000000</td>\n",
              "      <td>7707.000000</td>\n",
              "      <td>7716.000000</td>\n",
              "      <td>7697.000000</td>\n",
              "      <td>8161.000000</td>\n",
              "      <td>8161.000000</td>\n",
              "      <td>8161.000000</td>\n",
              "      <td>8161.000000</td>\n",
              "      <td>8161.000000</td>\n",
              "      <td>8161.000000</td>\n",
              "      <td>7651.000000</td>\n",
              "    </tr>\n",
              "    <tr>\n",
              "      <th>mean</th>\n",
              "      <td>0.263816</td>\n",
              "      <td>1504.324648</td>\n",
              "      <td>0.171057</td>\n",
              "      <td>44.790313</td>\n",
              "      <td>0.721235</td>\n",
              "      <td>10.499286</td>\n",
              "      <td>64.757855</td>\n",
              "      <td>154.867290</td>\n",
              "      <td>33.485725</td>\n",
              "      <td>15.709900</td>\n",
              "      <td>5.351305</td>\n",
              "      <td>13.313173</td>\n",
              "      <td>0.798554</td>\n",
              "      <td>1.695503</td>\n",
              "      <td>8.328323</td>\n",
              "    </tr>\n",
              "    <tr>\n",
              "      <th>std</th>\n",
              "      <td>0.440728</td>\n",
              "      <td>4704.026930</td>\n",
              "      <td>0.511534</td>\n",
              "      <td>8.627589</td>\n",
              "      <td>1.116323</td>\n",
              "      <td>4.092474</td>\n",
              "      <td>60.768449</td>\n",
              "      <td>129.123775</td>\n",
              "      <td>15.908333</td>\n",
              "      <td>8.419734</td>\n",
              "      <td>4.146635</td>\n",
              "      <td>85.538813</td>\n",
              "      <td>1.158453</td>\n",
              "      <td>2.147112</td>\n",
              "      <td>5.700742</td>\n",
              "    </tr>\n",
              "    <tr>\n",
              "      <th>min</th>\n",
              "      <td>0.000000</td>\n",
              "      <td>0.000000</td>\n",
              "      <td>0.000000</td>\n",
              "      <td>16.000000</td>\n",
              "      <td>0.000000</td>\n",
              "      <td>0.000000</td>\n",
              "      <td>0.000000</td>\n",
              "      <td>0.000000</td>\n",
              "      <td>5.000000</td>\n",
              "      <td>1.500000</td>\n",
              "      <td>1.000000</td>\n",
              "      <td>0.000000</td>\n",
              "      <td>0.000000</td>\n",
              "      <td>0.000000</td>\n",
              "      <td>-3.000000</td>\n",
              "    </tr>\n",
              "    <tr>\n",
              "      <th>25%</th>\n",
              "      <td>0.000000</td>\n",
              "      <td>0.000000</td>\n",
              "      <td>0.000000</td>\n",
              "      <td>39.000000</td>\n",
              "      <td>0.000000</td>\n",
              "      <td>9.000000</td>\n",
              "      <td>28.696250</td>\n",
              "      <td>0.000000</td>\n",
              "      <td>22.000000</td>\n",
              "      <td>9.280000</td>\n",
              "      <td>1.000000</td>\n",
              "      <td>0.000000</td>\n",
              "      <td>0.000000</td>\n",
              "      <td>0.000000</td>\n",
              "      <td>1.000000</td>\n",
              "    </tr>\n",
              "    <tr>\n",
              "      <th>50%</th>\n",
              "      <td>0.000000</td>\n",
              "      <td>0.000000</td>\n",
              "      <td>0.000000</td>\n",
              "      <td>45.000000</td>\n",
              "      <td>0.000000</td>\n",
              "      <td>11.000000</td>\n",
              "      <td>54.799500</td>\n",
              "      <td>161.160000</td>\n",
              "      <td>33.000000</td>\n",
              "      <td>14.440000</td>\n",
              "      <td>4.000000</td>\n",
              "      <td>0.000000</td>\n",
              "      <td>0.000000</td>\n",
              "      <td>1.000000</td>\n",
              "      <td>8.000000</td>\n",
              "    </tr>\n",
              "    <tr>\n",
              "      <th>75%</th>\n",
              "      <td>1.000000</td>\n",
              "      <td>1036.000000</td>\n",
              "      <td>0.000000</td>\n",
              "      <td>51.000000</td>\n",
              "      <td>1.000000</td>\n",
              "      <td>13.000000</td>\n",
              "      <td>87.259000</td>\n",
              "      <td>238.724000</td>\n",
              "      <td>44.000000</td>\n",
              "      <td>20.850000</td>\n",
              "      <td>7.000000</td>\n",
              "      <td>4.906000</td>\n",
              "      <td>2.000000</td>\n",
              "      <td>3.000000</td>\n",
              "      <td>12.000000</td>\n",
              "    </tr>\n",
              "    <tr>\n",
              "      <th>max</th>\n",
              "      <td>1.000000</td>\n",
              "      <td>107586.136160</td>\n",
              "      <td>4.000000</td>\n",
              "      <td>81.000000</td>\n",
              "      <td>5.000000</td>\n",
              "      <td>23.000000</td>\n",
              "      <td>997.000000</td>\n",
              "      <td>885.282000</td>\n",
              "      <td>142.000000</td>\n",
              "      <td>69.740000</td>\n",
              "      <td>25.000000</td>\n",
              "      <td>999.000000</td>\n",
              "      <td>5.000000</td>\n",
              "      <td>13.000000</td>\n",
              "      <td>28.000000</td>\n",
              "    </tr>\n",
              "  </tbody>\n",
              "</table>\n",
              "</div>\n",
              "      <button class=\"colab-df-convert\" onclick=\"convertToInteractive('df-767abb2f-68b2-4fcf-91a1-e8126a073896')\"\n",
              "              title=\"Convert this dataframe to an interactive table.\"\n",
              "              style=\"display:none;\">\n",
              "        \n",
              "  <svg xmlns=\"http://www.w3.org/2000/svg\" height=\"24px\"viewBox=\"0 0 24 24\"\n",
              "       width=\"24px\">\n",
              "    <path d=\"M0 0h24v24H0V0z\" fill=\"none\"/>\n",
              "    <path d=\"M18.56 5.44l.94 2.06.94-2.06 2.06-.94-2.06-.94-.94-2.06-.94 2.06-2.06.94zm-11 1L8.5 8.5l.94-2.06 2.06-.94-2.06-.94L8.5 2.5l-.94 2.06-2.06.94zm10 10l.94 2.06.94-2.06 2.06-.94-2.06-.94-.94-2.06-.94 2.06-2.06.94z\"/><path d=\"M17.41 7.96l-1.37-1.37c-.4-.4-.92-.59-1.43-.59-.52 0-1.04.2-1.43.59L10.3 9.45l-7.72 7.72c-.78.78-.78 2.05 0 2.83L4 21.41c.39.39.9.59 1.41.59.51 0 1.02-.2 1.41-.59l7.78-7.78 2.81-2.81c.8-.78.8-2.07 0-2.86zM5.41 20L4 18.59l7.72-7.72 1.47 1.35L5.41 20z\"/>\n",
              "  </svg>\n",
              "      </button>\n",
              "      \n",
              "  <style>\n",
              "    .colab-df-container {\n",
              "      display:flex;\n",
              "      flex-wrap:wrap;\n",
              "      gap: 12px;\n",
              "    }\n",
              "\n",
              "    .colab-df-convert {\n",
              "      background-color: #E8F0FE;\n",
              "      border: none;\n",
              "      border-radius: 50%;\n",
              "      cursor: pointer;\n",
              "      display: none;\n",
              "      fill: #1967D2;\n",
              "      height: 32px;\n",
              "      padding: 0 0 0 0;\n",
              "      width: 32px;\n",
              "    }\n",
              "\n",
              "    .colab-df-convert:hover {\n",
              "      background-color: #E2EBFA;\n",
              "      box-shadow: 0px 1px 2px rgba(60, 64, 67, 0.3), 0px 1px 3px 1px rgba(60, 64, 67, 0.15);\n",
              "      fill: #174EA6;\n",
              "    }\n",
              "\n",
              "    [theme=dark] .colab-df-convert {\n",
              "      background-color: #3B4455;\n",
              "      fill: #D2E3FC;\n",
              "    }\n",
              "\n",
              "    [theme=dark] .colab-df-convert:hover {\n",
              "      background-color: #434B5C;\n",
              "      box-shadow: 0px 1px 3px 1px rgba(0, 0, 0, 0.15);\n",
              "      filter: drop-shadow(0px 1px 2px rgba(0, 0, 0, 0.3));\n",
              "      fill: #FFFFFF;\n",
              "    }\n",
              "  </style>\n",
              "\n",
              "      <script>\n",
              "        const buttonEl =\n",
              "          document.querySelector('#df-767abb2f-68b2-4fcf-91a1-e8126a073896 button.colab-df-convert');\n",
              "        buttonEl.style.display =\n",
              "          google.colab.kernel.accessAllowed ? 'block' : 'none';\n",
              "\n",
              "        async function convertToInteractive(key) {\n",
              "          const element = document.querySelector('#df-767abb2f-68b2-4fcf-91a1-e8126a073896');\n",
              "          const dataTable =\n",
              "            await google.colab.kernel.invokeFunction('convertToInteractive',\n",
              "                                                     [key], {});\n",
              "          if (!dataTable) return;\n",
              "\n",
              "          const docLinkHtml = 'Like what you see? Visit the ' +\n",
              "            '<a target=\"_blank\" href=https://colab.research.google.com/notebooks/data_table.ipynb>data table notebook</a>'\n",
              "            + ' to learn more about interactive tables.';\n",
              "          element.innerHTML = '';\n",
              "          dataTable['output_type'] = 'display_data';\n",
              "          await google.colab.output.renderOutput(dataTable, element);\n",
              "          const docLink = document.createElement('div');\n",
              "          docLink.innerHTML = docLinkHtml;\n",
              "          element.appendChild(docLink);\n",
              "        }\n",
              "      </script>\n",
              "    </div>\n",
              "  </div>\n",
              "  "
            ]
          },
          "metadata": {},
          "execution_count": 8
        }
      ]
    },
    {
      "cell_type": "markdown",
      "source": [
        "The `.describe()` method allows to take a look at the distribution of the numerical features we have.\n",
        "\n",
        "We can notice that we seem to have probable outliers, for instance in the `CAR_AGE` vatiable (-3 value), but overall the number seem fairly reasonnable (kids between 0 and 5, age between 16 and 81, ...)\n",
        "\n",
        "Most importantly, we notice - as expected - that the positive rate of `TARGET_FLAG` is at $26.3\\%$. \n",
        "\n",
        "This means that the target is really unbalanced and we should keep that in mind for approripate metrics."
      ],
      "metadata": {
        "id": "OgX0gPKlPSOF"
      }
    },
    {
      "cell_type": "markdown",
      "source": [
        "We can also get an overview of the distribution of numerical features."
      ],
      "metadata": {
        "id": "LZHGaETffhVM"
      }
    },
    {
      "cell_type": "code",
      "source": [
        "df_train.hist(bins=50, figsize=(20,15))\n",
        "plt.show()"
      ],
      "metadata": {
        "colab": {
          "base_uri": "https://localhost:8080/",
          "height": 879
        },
        "id": "z3LF6mUzS_Kv",
        "outputId": "a1d49b47-1671-49be-9bc2-5b4a3789189b"
      },
      "execution_count": 9,
      "outputs": [
        {
          "output_type": "display_data",
          "data": {
            "text/plain": [
              "<Figure size 1440x1080 with 16 Axes>"
            ],
            "image/png": "[encoded data removed]"
          },
          "metadata": {
            "needs_background": "light"
          }
        }
      ]
    },
    {
      "cell_type": "markdown",
      "source": [
        "## Transform the data"
      ],
      "metadata": {
        "id": "KJ2nFjQ1VbKZ"
      }
    },
    {
      "cell_type": "markdown",
      "source": [
        "Here we build a pre-processing pipeline that pre-processes the raw data and returns a dataset ready to be fed to the ML model. Let's load the original train set."
      ],
      "metadata": {
        "id": "CZjL7DjDVky6"
      }
    },
    {
      "cell_type": "code",
      "source": [
        "df_train_ = df_train.copy()"
      ],
      "metadata": {
        "id": "TlU9GUcgVcsN"
      },
      "execution_count": 10,
      "outputs": []
    },
    {
      "cell_type": "markdown",
      "source": [
        "First we take the labels away to separate them from the training features."
      ],
      "metadata": {
        "id": "8w8gBrh7VuBf"
      }
    },
    {
      "cell_type": "code",
      "source": [
        "df_features = df_train_.drop(columns=['TARGET_FLAG',\"TARGET_AMT\"])\n",
        "df_labels = df_train_[\"TARGET_FLAG\"].copy()"
      ],
      "metadata": {
        "id": "VyZSeI5FVhBN"
      },
      "execution_count": 11,
      "outputs": []
    },
    {
      "cell_type": "code",
      "source": [
        "df_features.head()"
      ],
      "metadata": {
        "colab": {
          "base_uri": "https://localhost:8080/",
          "height": 206
        },
        "id": "30GkdmWRV_A7",
        "outputId": "8335ece5-016f-4517-87df-0c7e74939ca0"
      },
      "execution_count": 12,
      "outputs": [
        {
          "output_type": "execute_result",
          "data": {
            "text/plain": [
              "   KIDSDRIV   AGE  HOMEKIDS   YOJ   INCOME PARENT1  HOME_VAL MSTATUS  SEX  \\\n",
              "0         0  60.0         0  11.0   67.349      No     0.000    z_No    M   \n",
              "1         0  43.0         0  11.0   91.449      No   257.252    z_No    M   \n",
              "2         0  35.0         1  10.0   16.039      No   124.191     Yes  z_F   \n",
              "3         0  51.0         0  14.0      NaN      No   306.251     Yes    M   \n",
              "4         0  50.0         0   NaN  114.986      No   243.925     Yes  z_F   \n",
              "\n",
              "       EDUCATION            JOB  TRAVTIME     CAR_USE  BLUEBOOK  TIF CAR_TYPE  \\\n",
              "0            PhD   Professional        14     Private     14.23   11  Minivan   \n",
              "1  z_High School  z_Blue Collar        22  Commercial     14.94    1  Minivan   \n",
              "2  z_High School       Clerical         5     Private      4.01    4    z_SUV   \n",
              "3   <High School  z_Blue Collar        32     Private     15.44    7  Minivan   \n",
              "4            PhD         Doctor        36     Private     18.00    1    z_SUV   \n",
              "\n",
              "  RED_CAR  OLDCLAIM  CLM_FREQ REVOKED  MVR_PTS  CAR_AGE           URBANICITY  \n",
              "0     yes     4.461         2      No        3     18.0  Highly Urban/ Urban  \n",
              "1     yes     0.000         0      No        0      1.0  Highly Urban/ Urban  \n",
              "2      no    38.690         2      No        3     10.0  Highly Urban/ Urban  \n",
              "3     yes     0.000         0      No        0      6.0  Highly Urban/ Urban  \n",
              "4      no    19.217         2     Yes        3     17.0  Highly Urban/ Urban  "
            ],
            "text/html": [
              "\n",
              "  <div id=\"df-380289ba-c4bb-431a-b321-b17f12f20ea1\">\n",
              "    <div class=\"colab-df-container\">\n",
              "      <div>\n",
              "<style scoped>\n",
              "    .dataframe tbody tr th:only-of-type {\n",
              "        vertical-align: middle;\n",
              "    }\n",
              "\n",
              "    .dataframe tbody tr th {\n",
              "        vertical-align: top;\n",
              "    }\n",
              "\n",
              "    .dataframe thead th {\n",
              "        text-align: right;\n",
              "    }\n",
              "</style>\n",
              "<table border=\"1\" class=\"dataframe\">\n",
              "  <thead>\n",
              "    <tr style=\"text-align: right;\">\n",
              "      <th></th>\n",
              "      <th>KIDSDRIV</th>\n",
              "      <th>AGE</th>\n",
              "      <th>HOMEKIDS</th>\n",
              "      <th>YOJ</th>\n",
              "      <th>INCOME</th>\n",
              "      <th>PARENT1</th>\n",
              "      <th>HOME_VAL</th>\n",
              "      <th>MSTATUS</th>\n",
              "      <th>SEX</th>\n",
              "      <th>EDUCATION</th>\n",
              "      <th>JOB</th>\n",
              "      <th>TRAVTIME</th>\n",
              "      <th>CAR_USE</th>\n",
              "      <th>BLUEBOOK</th>\n",
              "      <th>TIF</th>\n",
              "      <th>CAR_TYPE</th>\n",
              "      <th>RED_CAR</th>\n",
              "      <th>OLDCLAIM</th>\n",
              "      <th>CLM_FREQ</th>\n",
              "      <th>REVOKED</th>\n",
              "      <th>MVR_PTS</th>\n",
              "      <th>CAR_AGE</th>\n",
              "      <th>URBANICITY</th>\n",
              "    </tr>\n",
              "  </thead>\n",
              "  <tbody>\n",
              "    <tr>\n",
              "      <th>0</th>\n",
              "      <td>0</td>\n",
              "      <td>60.0</td>\n",
              "      <td>0</td>\n",
              "      <td>11.0</td>\n",
              "      <td>67.349</td>\n",
              "      <td>No</td>\n",
              "      <td>0.000</td>\n",
              "      <td>z_No</td>\n",
              "      <td>M</td>\n",
              "      <td>PhD</td>\n",
              "      <td>Professional</td>\n",
              "      <td>14</td>\n",
              "      <td>Private</td>\n",
              "      <td>14.23</td>\n",
              "      <td>11</td>\n",
              "      <td>Minivan</td>\n",
              "      <td>yes</td>\n",
              "      <td>4.461</td>\n",
              "      <td>2</td>\n",
              "      <td>No</td>\n",
              "      <td>3</td>\n",
              "      <td>18.0</td>\n",
              "      <td>Highly Urban/ Urban</td>\n",
              "    </tr>\n",
              "    <tr>\n",
              "      <th>1</th>\n",
              "      <td>0</td>\n",
              "      <td>43.0</td>\n",
              "      <td>0</td>\n",
              "      <td>11.0</td>\n",
              "      <td>91.449</td>\n",
              "      <td>No</td>\n",
              "      <td>257.252</td>\n",
              "      <td>z_No</td>\n",
              "      <td>M</td>\n",
              "      <td>z_High School</td>\n",
              "      <td>z_Blue Collar</td>\n",
              "      <td>22</td>\n",
              "      <td>Commercial</td>\n",
              "      <td>14.94</td>\n",
              "      <td>1</td>\n",
              "      <td>Minivan</td>\n",
              "      <td>yes</td>\n",
              "      <td>0.000</td>\n",
              "      <td>0</td>\n",
              "      <td>No</td>\n",
              "      <td>0</td>\n",
              "      <td>1.0</td>\n",
              "      <td>Highly Urban/ Urban</td>\n",
              "    </tr>\n",
              "    <tr>\n",
              "      <th>2</th>\n",
              "      <td>0</td>\n",
              "      <td>35.0</td>\n",
              "      <td>1</td>\n",
              "      <td>10.0</td>\n",
              "      <td>16.039</td>\n",
              "      <td>No</td>\n",
              "      <td>124.191</td>\n",
              "      <td>Yes</td>\n",
              "      <td>z_F</td>\n",
              "      <td>z_High School</td>\n",
              "      <td>Clerical</td>\n",
              "      <td>5</td>\n",
              "      <td>Private</td>\n",
              "      <td>4.01</td>\n",
              "      <td>4</td>\n",
              "      <td>z_SUV</td>\n",
              "      <td>no</td>\n",
              "      <td>38.690</td>\n",
              "      <td>2</td>\n",
              "      <td>No</td>\n",
              "      <td>3</td>\n",
              "      <td>10.0</td>\n",
              "      <td>Highly Urban/ Urban</td>\n",
              "    </tr>\n",
              "    <tr>\n",
              "      <th>3</th>\n",
              "      <td>0</td>\n",
              "      <td>51.0</td>\n",
              "      <td>0</td>\n",
              "      <td>14.0</td>\n",
              "      <td>NaN</td>\n",
              "      <td>No</td>\n",
              "      <td>306.251</td>\n",
              "      <td>Yes</td>\n",
              "      <td>M</td>\n",
              "      <td>&lt;High School</td>\n",
              "      <td>z_Blue Collar</td>\n",
              "      <td>32</td>\n",
              "      <td>Private</td>\n",
              "      <td>15.44</td>\n",
              "      <td>7</td>\n",
              "      <td>Minivan</td>\n",
              "      <td>yes</td>\n",
              "      <td>0.000</td>\n",
              "      <td>0</td>\n",
              "      <td>No</td>\n",
              "      <td>0</td>\n",
              "      <td>6.0</td>\n",
              "      <td>Highly Urban/ Urban</td>\n",
              "    </tr>\n",
              "    <tr>\n",
              "      <th>4</th>\n",
              "      <td>0</td>\n",
              "      <td>50.0</td>\n",
              "      <td>0</td>\n",
              "      <td>NaN</td>\n",
              "      <td>114.986</td>\n",
              "      <td>No</td>\n",
              "      <td>243.925</td>\n",
              "      <td>Yes</td>\n",
              "      <td>z_F</td>\n",
              "      <td>PhD</td>\n",
              "      <td>Doctor</td>\n",
              "      <td>36</td>\n",
              "      <td>Private</td>\n",
              "      <td>18.00</td>\n",
              "      <td>1</td>\n",
              "      <td>z_SUV</td>\n",
              "      <td>no</td>\n",
              "      <td>19.217</td>\n",
              "      <td>2</td>\n",
              "      <td>Yes</td>\n",
              "      <td>3</td>\n",
              "      <td>17.0</td>\n",
              "      <td>Highly Urban/ Urban</td>\n",
              "    </tr>\n",
              "  </tbody>\n",
              "</table>\n",
              "</div>\n",
              "      <button class=\"colab-df-convert\" onclick=\"convertToInteractive('df-380289ba-c4bb-431a-b321-b17f12f20ea1')\"\n",
              "              title=\"Convert this dataframe to an interactive table.\"\n",
              "              style=\"display:none;\">\n",
              "        \n",
              "  <svg xmlns=\"http://www.w3.org/2000/svg\" height=\"24px\"viewBox=\"0 0 24 24\"\n",
              "       width=\"24px\">\n",
              "    <path d=\"M0 0h24v24H0V0z\" fill=\"none\"/>\n",
              "    <path d=\"M18.56 5.44l.94 2.06.94-2.06 2.06-.94-2.06-.94-.94-2.06-.94 2.06-2.06.94zm-11 1L8.5 8.5l.94-2.06 2.06-.94-2.06-.94L8.5 2.5l-.94 2.06-2.06.94zm10 10l.94 2.06.94-2.06 2.06-.94-2.06-.94-.94-2.06-.94 2.06-2.06.94z\"/><path d=\"M17.41 7.96l-1.37-1.37c-.4-.4-.92-.59-1.43-.59-.52 0-1.04.2-1.43.59L10.3 9.45l-7.72 7.72c-.78.78-.78 2.05 0 2.83L4 21.41c.39.39.9.59 1.41.59.51 0 1.02-.2 1.41-.59l7.78-7.78 2.81-2.81c.8-.78.8-2.07 0-2.86zM5.41 20L4 18.59l7.72-7.72 1.47 1.35L5.41 20z\"/>\n",
              "  </svg>\n",
              "      </button>\n",
              "      \n",
              "  <style>\n",
              "    .colab-df-container {\n",
              "      display:flex;\n",
              "      flex-wrap:wrap;\n",
              "      gap: 12px;\n",
              "    }\n",
              "\n",
              "    .colab-df-convert {\n",
              "      background-color: #E8F0FE;\n",
              "      border: none;\n",
              "      border-radius: 50%;\n",
              "      cursor: pointer;\n",
              "      display: none;\n",
              "      fill: #1967D2;\n",
              "      height: 32px;\n",
              "      padding: 0 0 0 0;\n",
              "      width: 32px;\n",
              "    }\n",
              "\n",
              "    .colab-df-convert:hover {\n",
              "      background-color: #E2EBFA;\n",
              "      box-shadow: 0px 1px 2px rgba(60, 64, 67, 0.3), 0px 1px 3px 1px rgba(60, 64, 67, 0.15);\n",
              "      fill: #174EA6;\n",
              "    }\n",
              "\n",
              "    [theme=dark] .colab-df-convert {\n",
              "      background-color: #3B4455;\n",
              "      fill: #D2E3FC;\n",
              "    }\n",
              "\n",
              "    [theme=dark] .colab-df-convert:hover {\n",
              "      background-color: #434B5C;\n",
              "      box-shadow: 0px 1px 3px 1px rgba(0, 0, 0, 0.15);\n",
              "      filter: drop-shadow(0px 1px 2px rgba(0, 0, 0, 0.3));\n",
              "      fill: #FFFFFF;\n",
              "    }\n",
              "  </style>\n",
              "\n",
              "      <script>\n",
              "        const buttonEl =\n",
              "          document.querySelector('#df-380289ba-c4bb-431a-b321-b17f12f20ea1 button.colab-df-convert');\n",
              "        buttonEl.style.display =\n",
              "          google.colab.kernel.accessAllowed ? 'block' : 'none';\n",
              "\n",
              "        async function convertToInteractive(key) {\n",
              "          const element = document.querySelector('#df-380289ba-c4bb-431a-b321-b17f12f20ea1');\n",
              "          const dataTable =\n",
              "            await google.colab.kernel.invokeFunction('convertToInteractive',\n",
              "                                                     [key], {});\n",
              "          if (!dataTable) return;\n",
              "\n",
              "          const docLinkHtml = 'Like what you see? Visit the ' +\n",
              "            '<a target=\"_blank\" href=https://colab.research.google.com/notebooks/data_table.ipynb>data table notebook</a>'\n",
              "            + ' to learn more about interactive tables.';\n",
              "          element.innerHTML = '';\n",
              "          dataTable['output_type'] = 'display_data';\n",
              "          await google.colab.output.renderOutput(dataTable, element);\n",
              "          const docLink = document.createElement('div');\n",
              "          docLink.innerHTML = docLinkHtml;\n",
              "          element.appendChild(docLink);\n",
              "        }\n",
              "      </script>\n",
              "    </div>\n",
              "  </div>\n",
              "  "
            ]
          },
          "metadata": {},
          "execution_count": 12
        }
      ]
    },
    {
      "cell_type": "markdown",
      "source": [
        "We are now converting to apply different transformations for the different type of input features:\n",
        "- For the numerical attributes, we replace the `NaN` or missing values by a reasonnable value, here the median of the column. We also scale these values using a `StandardScaler` object.\n",
        "- For the binary ones, we can convert the values to 0 and 1. \n",
        "- For the categorial attributes with more than two classes, we don't want to create an effect of distance between them. Therefore, we are going to use 'One Hot Encoding'.\n"
      ],
      "metadata": {
        "id": "B9-ESex7WkY8"
      }
    },
    {
      "cell_type": "code",
      "source": [
        "from sklearn.pipeline import Pipeline\n",
        "from sklearn.preprocessing import StandardScaler,LabelEncoder,OneHotEncoder\n",
        "from sklearn.compose import ColumnTransformer\n",
        "from sklearn.impute import SimpleImputer\n",
        "from sklearn.base import BaseEstimator, TransformerMixin\n",
        "\n",
        "class BinClassToNum(BaseEstimator, TransformerMixin):\n",
        "  def __init__(self,columns):\n",
        "    self.columns = columns\n",
        "\n",
        "  def fit(self, X, y=None):\n",
        "    return self\n",
        "\n",
        "  def transform(self, X):\n",
        "    for column in self.columns :\n",
        "      X[column] = LabelEncoder().fit_transform(X[column])\n",
        "    return X"
      ],
      "metadata": {
        "id": "pFo0hfhGY0oS"
      },
      "execution_count": 13,
      "outputs": []
    },
    {
      "cell_type": "code",
      "source": [
        "numerical_attributes = [attribute for attribute in df_features.keys() if (attribute not in binary_attributes) and (attribute not in multiclass_attributes)]\n",
        "\n",
        "num_pipeline = Pipeline([('imputer', SimpleImputer(strategy =\"mean\")),('scaler', StandardScaler())])\n",
        "bin_pipeline = BinClassToNum(binary_attributes)\n",
        "cat_pipeline = OneHotEncoder()\n",
        "\n",
        "full_pipeline = ColumnTransformer([('num',num_pipeline, numerical_attributes),\n",
        "                                   ('bin',bin_pipeline,binary_attributes),\n",
        "                                   ('cat',cat_pipeline, multiclass_attributes),])\n",
        "\n",
        "df_prepared = full_pipeline.fit_transform(df_features)"
      ],
      "metadata": {
        "id": "4e5t37CEatUt"
      },
      "execution_count": 14,
      "outputs": []
    },
    {
      "cell_type": "code",
      "source": [
        "df_prepared[0:5]"
      ],
      "metadata": {
        "colab": {
          "base_uri": "https://localhost:8080/"
        },
        "id": "KeK1G2uIbvV6",
        "outputId": "39fb4998-6156-4293-e418-1c06859fa64f"
      },
      "execution_count": 15,
      "outputs": [
        {
          "output_type": "execute_result",
          "data": {
            "text/plain": [
              "array([[-3.34421403e-01,  1.76366928e+00, -6.46120475e-01,\n",
              "         1.25910126e-01,  4.38548139e-02, -1.23507305e+00,\n",
              "        -1.22495036e+00, -1.75776359e-01,  1.36231925e+00,\n",
              "        -1.03493544e-01,  1.03717617e+00,  6.07596196e-01,\n",
              "         1.75231158e+00,  0.00000000e+00,  1.00000000e+00,\n",
              "         0.00000000e+00,  1.00000000e+00,  1.00000000e+00,\n",
              "         0.00000000e+00,  0.00000000e+00,  0.00000000e+00,\n",
              "         0.00000000e+00,  0.00000000e+00,  1.00000000e+00,\n",
              "         0.00000000e+00,  0.00000000e+00,  0.00000000e+00,\n",
              "         0.00000000e+00,  0.00000000e+00,  0.00000000e+00,\n",
              "         1.00000000e+00,  0.00000000e+00,  0.00000000e+00,\n",
              "         0.00000000e+00,  1.00000000e+00,  0.00000000e+00,\n",
              "         0.00000000e+00,  0.00000000e+00,  0.00000000e+00,\n",
              "         0.00000000e+00],\n",
              "       [-3.34421403e-01, -2.07599238e-01, -6.46120475e-01,\n",
              "         1.25910126e-01,  4.51744399e-01,  8.16522304e-01,\n",
              "        -7.22038459e-01, -9.14454885e-02, -1.04942231e+00,\n",
              "        -1.55648503e-01, -6.89370434e-01, -7.89715251e-01,\n",
              "        -1.32774343e+00,  0.00000000e+00,  1.00000000e+00,\n",
              "         0.00000000e+00,  0.00000000e+00,  1.00000000e+00,\n",
              "         0.00000000e+00,  0.00000000e+00,  0.00000000e+00,\n",
              "         0.00000000e+00,  0.00000000e+00,  0.00000000e+00,\n",
              "         1.00000000e+00,  0.00000000e+00,  0.00000000e+00,\n",
              "         0.00000000e+00,  0.00000000e+00,  0.00000000e+00,\n",
              "         0.00000000e+00,  0.00000000e+00,  1.00000000e+00,\n",
              "         0.00000000e+00,  1.00000000e+00,  0.00000000e+00,\n",
              "         0.00000000e+00,  0.00000000e+00,  0.00000000e+00,\n",
              "         0.00000000e+00],\n",
              "       [-3.34421403e-01, -1.13525501e+00,  2.49732260e-01,\n",
              "        -1.25551222e-01, -8.24560729e-01, -2.44644681e-01,\n",
              "        -1.79072625e+00, -1.38966579e+00, -3.25899840e-01,\n",
              "         2.96688502e-01,  1.03717617e+00,  6.07596196e-01,\n",
              "         3.02873931e-01,  0.00000000e+00,  0.00000000e+00,\n",
              "         1.00000000e+00,  1.00000000e+00,  0.00000000e+00,\n",
              "         0.00000000e+00,  0.00000000e+00,  0.00000000e+00,\n",
              "         0.00000000e+00,  0.00000000e+00,  0.00000000e+00,\n",
              "         1.00000000e+00,  1.00000000e+00,  0.00000000e+00,\n",
              "         0.00000000e+00,  0.00000000e+00,  0.00000000e+00,\n",
              "         0.00000000e+00,  0.00000000e+00,  0.00000000e+00,\n",
              "         0.00000000e+00,  0.00000000e+00,  0.00000000e+00,\n",
              "         0.00000000e+00,  0.00000000e+00,  0.00000000e+00,\n",
              "         1.00000000e+00],\n",
              "       [-3.34421403e-01,  7.20056535e-01, -6.46120475e-01,\n",
              "         8.80294168e-01,  0.00000000e+00,  1.20729136e+00,\n",
              "        -9.33985845e-02, -3.20575516e-02,  3.97622629e-01,\n",
              "        -1.55648503e-01, -6.89370434e-01, -7.89715251e-01,\n",
              "        -4.21844895e-01,  0.00000000e+00,  0.00000000e+00,\n",
              "         0.00000000e+00,  1.00000000e+00,  1.00000000e+00,\n",
              "         0.00000000e+00,  0.00000000e+00,  1.00000000e+00,\n",
              "         0.00000000e+00,  0.00000000e+00,  0.00000000e+00,\n",
              "         0.00000000e+00,  0.00000000e+00,  0.00000000e+00,\n",
              "         0.00000000e+00,  0.00000000e+00,  0.00000000e+00,\n",
              "         0.00000000e+00,  0.00000000e+00,  1.00000000e+00,\n",
              "         0.00000000e+00,  1.00000000e+00,  0.00000000e+00,\n",
              "         0.00000000e+00,  0.00000000e+00,  0.00000000e+00,\n",
              "         0.00000000e+00],\n",
              "       [-3.34421403e-01,  6.04099563e-01, -6.46120475e-01,\n",
              "         4.46685084e-16,  8.50105276e-01,  7.10238927e-01,\n",
              "         1.58057365e-01,  2.72008686e-01, -1.04942231e+00,\n",
              "         6.90235110e-02,  1.03717617e+00,  6.07596196e-01,\n",
              "         1.57113188e+00,  0.00000000e+00,  0.00000000e+00,\n",
              "         1.00000000e+00,  1.00000000e+00,  0.00000000e+00,\n",
              "         1.00000000e+00,  0.00000000e+00,  0.00000000e+00,\n",
              "         0.00000000e+00,  0.00000000e+00,  1.00000000e+00,\n",
              "         0.00000000e+00,  0.00000000e+00,  1.00000000e+00,\n",
              "         0.00000000e+00,  0.00000000e+00,  0.00000000e+00,\n",
              "         0.00000000e+00,  0.00000000e+00,  0.00000000e+00,\n",
              "         0.00000000e+00,  0.00000000e+00,  0.00000000e+00,\n",
              "         0.00000000e+00,  0.00000000e+00,  0.00000000e+00,\n",
              "         1.00000000e+00]])"
            ]
          },
          "metadata": {},
          "execution_count": 15
        }
      ]
    },
    {
      "cell_type": "code",
      "source": [
        "df_labels_prepared = np.asarray(df_labels)\n",
        "df_labels_prepared"
      ],
      "metadata": {
        "colab": {
          "base_uri": "https://localhost:8080/"
        },
        "id": "8qjXTK6kdIJq",
        "outputId": "3573a88e-0ca3-44d2-9485-a34a24c70f21"
      },
      "execution_count": 16,
      "outputs": [
        {
          "output_type": "execute_result",
          "data": {
            "text/plain": [
              "array([0, 0, 0, ..., 0, 0, 0])"
            ]
          },
          "metadata": {},
          "execution_count": 16
        }
      ]
    },
    {
      "cell_type": "markdown",
      "metadata": {
        "id": "ak2AukSkBgTh"
      },
      "source": [
        "## Discussion about the metrics"
      ]
    },
    {
      "cell_type": "markdown",
      "metadata": {
        "id": "arMCEAA1BkLc"
      },
      "source": [
        "### Problem to be solved\n",
        "\n",
        "This project is about a binary classification problem. Our goal is to find a good classifier $f : X \\rightarrow  [0,1]$ where $X$ is our feature space, and $[0,1]$ is the label space.\n",
        "\n",
        "As seen during the exploration phase, the label distribution is unbalanced : around $26\\%$. This has to be taken into account when it comes to finding a good metrics."
      ]
    },
    {
      "cell_type": "markdown",
      "metadata": {
        "id": "-zNpnY8vKiwL"
      },
      "source": [
        "### Accuracy\n",
        "\n",
        "For example the accuracy defined by \n",
        "\n",
        "\\begin{equation}\n",
        "\\mathrm{Accuracy} = \\frac{1}{n}\\sum\\mathbb{1}_{\\mathrm{f}(x_i) = y_i}\n",
        "\\end{equation}\n",
        "\n",
        "would give us a score about $74\\%$ on a naïve classifier that would always predict $0$, which is obviously bad. Therefore, the accuracy won't be a good metric choice."
      ]
    },
    {
      "cell_type": "markdown",
      "metadata": {
        "id": "TCq3r74dKfRo"
      },
      "source": [
        "### Precision, Recall, F1 Score\n",
        "\n",
        "We can introcude the notions of **precision** and **recall**.\n",
        "The **precision** measures how many positive predictions are indeed positive, and the **recall** measures how many positive instances are indeed detected.\n",
        "\n",
        "Formally : $Precision = \\frac{TP}{TP + FP}$ and $Recall = \\frac{TP}{TP + FN}$ where $TP$ is the number of True Positives, $FP$ is the number of False Positives and $FN$ is the number of False Negatives.\n",
        "\n",
        "We can also combine those two metrics into a single indicator, namelly the $F_1$ score which is the harmonic mean between precision and recall. As the harmonic mean gives a lot of weight for the low values, both precision and recall have to be high to reach a good $F_1$ score.\n",
        "\n",
        "The $F_1$ score is clearly a better metrics than the simple accuracy, as it takes into account both precision and recall. However, it supposes that we give the same importance between the two. "
      ]
    },
    {
      "cell_type": "markdown",
      "metadata": {
        "id": "cskDiMnhKaks"
      },
      "source": [
        "### Precision-Recall Tradeoff, ROC Curve\n",
        "\n",
        "Some problems may favor the precision or the recall depending on the task. For instance, if you want to make sure to detect all potential problematic instances (e.g. terrorist threats), the recall is important. If you want to identify some interesting elements among others and make sure that what you detect is relevant (e.g. good investments), you might favor the precision. For the real life needs of our problem, that is auto insurance, we are both interested in the recall and the precision.\n",
        "\n",
        "Therefore, a good Precision-Recall tradeoff has to be found. A good way to look at this trade-off is the **ROC curve** which displays the interaction between the two metrics. \n",
        "\n",
        "The area under the ROC curve, namely the **ROC AUC**, indicates how robust our classifier is under different detection thresholds. A completely random classifier would lead to a **ROC AUC** around $0.5$."
      ]
    },
    {
      "cell_type": "markdown",
      "source": [
        "## Model Selection"
      ],
      "metadata": {
        "id": "fSWQQ9CWgw9u"
      }
    },
    {
      "cell_type": "markdown",
      "source": [
        "Now that we have preprocessed our data to be suitable for our models, let's compare different ones. We are going to try the following models :\n",
        "\n",
        "*   Logistic regression\n",
        "*   Gradient Boosting Classifier\n",
        "*   Random Forest\n",
        "\n",
        "\n",
        "In order to avoid overfitting, we will perform **5-fold cross validation on the train set**, select our model based on this, and then make our predictions on the final test set."
      ],
      "metadata": {
        "id": "_c-s8WbZg2ew"
      }
    },
    {
      "cell_type": "code",
      "source": [
        "from sklearn.ensemble import RandomForestClassifier,GradientBoostingClassifier\n",
        "from sklearn.linear_model import LogisticRegression\n",
        "from sklearn.model_selection import KFold,StratifiedKFold\n",
        "from sklearn.metrics import f1_score,roc_auc_score,average_precision_score\n",
        "\n",
        "kf = StratifiedKFold(n_splits=5, shuffle=True)\n",
        "\n",
        "np.random.seed(seed=0)"
      ],
      "metadata": {
        "id": "rrxxg9LvgwN-"
      },
      "execution_count": 17,
      "outputs": []
    },
    {
      "cell_type": "markdown",
      "source": [
        "### Logistic regression"
      ],
      "metadata": {
        "id": "Q5Jh_wS5g-Ev"
      }
    },
    {
      "cell_type": "code",
      "source": [
        "f1_scores = []\n",
        "roc_auc_scores = []\n",
        "\n",
        "for index, (train_index, test_index) in enumerate(kf.split(df_prepared,df_labels_prepared)):\n",
        "  X_train,X_val = df_prepared[train_index], df_prepared[test_index]\n",
        "  y_train,y_val = df_labels_prepared[train_index], df_labels_prepared[test_index]\n",
        "\n",
        "  clf = LogisticRegression()\n",
        "  clf.fit(X_train, y_train)\n",
        "\n",
        "  y_pred = clf.predict(X_val)\n",
        "  y_prob = clf.predict_proba(X_val)\n",
        "  print(\"Fold n°\",index+1)\n",
        "  print(\"F1 Score : \" + f1_score(y_val,y_pred).astype(str))\n",
        "  print(\"ROC AUC Score : \" + roc_auc_score(y_val,y_prob[:,1]).astype(str))\n",
        "\n",
        "  f1_scores.append(f1_score(y_val,y_pred))\n",
        "  roc_auc_scores.append(roc_auc_score(y_val,y_prob[:,1]))\n",
        "\n",
        "print(\"\\nCV Finished. Final results :\\n\")\n",
        "\n",
        "print(\"Mean F1 Score :\",np.mean(f1_scores), \"+/-\",np.std(f1_scores))\n",
        "print(\"Mean ROC AUC Score :\",np.mean(roc_auc_scores), \"+/-\",np.std(roc_auc_scores))\n"
      ],
      "metadata": {
        "colab": {
          "base_uri": "https://localhost:8080/"
        },
        "id": "EVnqfNzzhA6t",
        "outputId": "e98c99f6-8ca4-452d-c6ac-3908aa793a66"
      },
      "execution_count": 18,
      "outputs": [
        {
          "output_type": "stream",
          "name": "stdout",
          "text": [
            "Fold n° 1\n",
            "F1 Score : 0.5235294117647058\n",
            "ROC AUC Score : 0.8335527407916427\n",
            "Fold n° 2\n",
            "F1 Score : 0.5372714486638538\n",
            "ROC AUC Score : 0.8070405912626244\n",
            "Fold n° 3\n",
            "F1 Score : 0.4782608695652174\n",
            "ROC AUC Score : 0.8043416012072901\n",
            "Fold n° 4\n",
            "F1 Score : 0.4909847434119279\n",
            "ROC AUC Score : 0.7912876160817262\n",
            "Fold n° 5\n",
            "F1 Score : 0.5063291139240507\n",
            "ROC AUC Score : 0.7984799982999473\n",
            "\n",
            "CV Finished. Final results :\n",
            "\n",
            "Mean F1 Score : 0.507275117465951 +/- 0.021317034311795394\n",
            "Mean ROC AUC Score : 0.8069405095286462 +/- 0.014363624313682589\n"
          ]
        }
      ]
    },
    {
      "cell_type": "markdown",
      "source": [
        "We already have some results, with a mean ROC AUC around $0.8$. We can try to plot the validation scores as fonction of the regularization to select a model, using a gaussian interval method (i.e. select the simplest model whose validation scores falls into the confidence interval of the model having the smallest CV error).\n",
        "\n",
        "First, we will try the Lasso regularization."
      ],
      "metadata": {
        "id": "Ea-N02T9iHLf"
      }
    },
    {
      "cell_type": "code",
      "source": [
        "list_C = np.logspace(-3, 2, 25)\n",
        "f1_scores_list = []\n",
        "f1_std_list = []\n",
        "roc_auc_scores_list = []\n",
        "roc_auc_std_list = []\n",
        "for C in list_C:\n",
        "  f1_scores = []\n",
        "  roc_auc_scores = []\n",
        "\n",
        "  for index, (train_index, test_index) in enumerate(kf.split(df_prepared,df_labels_prepared)):\n",
        "    X_train,X_val = df_prepared[train_index], df_prepared[test_index]\n",
        "    y_train,y_val = df_labels_prepared[train_index], df_labels_prepared[test_index]\n",
        "\n",
        "    clf = LogisticRegression(penalty=\"l2\", C=C)\n",
        "    clf.fit(X_train, y_train)\n",
        "\n",
        "    y_pred = clf.predict(X_val)\n",
        "    y_prob = clf.predict_proba(X_val)\n",
        "\n",
        "    f1_scores.append(f1_score(y_val,y_pred))\n",
        "    roc_auc_scores.append(roc_auc_score(y_val,y_prob[:,1]))\n",
        "    \n",
        "  f1_scores_list.append(np.mean(f1_scores))\n",
        "  f1_std_list.append(np.std(f1_scores))\n",
        "  roc_auc_scores_list.append(np.mean(roc_auc_scores))\n",
        "  roc_auc_std_list.append(np.std(roc_auc_scores))"
      ],
      "metadata": {
        "id": "IR4YhwQiiGKw"
      },
      "execution_count": 19,
      "outputs": []
    },
    {
      "cell_type": "code",
      "source": [
        "fig = plt.figure(figsize=(20, 10))\n",
        "plt.subplot(1, 2, 1)\n",
        "plt.errorbar(list_C, f1_scores_list, yerr = f1_std_list)\n",
        "plt.xscale(\"log\")\n",
        "plt.xlabel(\"Inverse of regularization C\")\n",
        "plt.ylabel(\"F1 Scores\")\n",
        "plt.title(\"L2 Logistic F1 Scores as function of regularization strength C\")\n",
        "plt.subplot(1,2,2)\n",
        "plt.errorbar(list_C, roc_auc_scores_list, yerr = roc_auc_std_list)\n",
        "plt.xscale(\"log\")\n",
        "plt.xlabel(\"Inverse of regularization C\")\n",
        "plt.ylabel(\"ROC AUC Scores\")\n",
        "plt.title(\"L2 Logistic ROC AUC Scores as function of regularization strength C\")\n",
        "plt.show()"
      ],
      "metadata": {
        "colab": {
          "base_uri": "https://localhost:8080/",
          "height": 625
        },
        "id": "o49hmWY6ic84",
        "outputId": "604f60f7-0cff-4812-c5db-b731fbd1d268"
      },
      "execution_count": 20,
      "outputs": [
        {
          "output_type": "display_data",
          "data": {
            "text/plain": [
              "<Figure size 1440x720 with 2 Axes>"
            ],
            "image/png": "[encoded data removed]"
          },
          "metadata": {
            "needs_background": "light"
          }
        }
      ]
    },
    {
      "cell_type": "markdown",
      "source": [
        "Based on this graph, we can notice that both the F1 and ROC AUC score improve and stagnate from a certain point $C_0$. \n",
        "\n",
        "We would choose a value around this point to set the regularization, namely $C_0 = 0.5$, which yields a F1 score around $0.51$ and an AUC-ROC slightly above $0.80$.\n",
        "\n",
        "We will now try the Ridge regularization."
      ],
      "metadata": {
        "id": "fIEqYiNLi7aH"
      }
    },
    {
      "cell_type": "code",
      "metadata": {
        "id": "qt--QgtoBzmq"
      },
      "source": [
        "list_C = np.logspace(-3, 2, 25)\n",
        "f1_scores_list = []\n",
        "f1_std_list = []\n",
        "roc_auc_scores_list = []\n",
        "roc_auc_std_list = []\n",
        "for C in list_C:\n",
        "  f1_scores = []\n",
        "  roc_auc_scores = []\n",
        "\n",
        "  for index, (train_index, test_index) in enumerate(kf.split(df_prepared,df_labels_prepared)):\n",
        "    X_train,X_val = df_prepared[train_index], df_prepared[test_index]\n",
        "    y_train,y_val = df_labels_prepared[train_index], df_labels_prepared[test_index]\n",
        "\n",
        "    clf = LogisticRegression(penalty=\"l1\", C=C, solver = \"saga\",tol=1e-3)\n",
        "    clf.fit(X_train, y_train)\n",
        "\n",
        "    y_pred = clf.predict(X_val)\n",
        "    y_prob = clf.predict_proba(X_val)\n",
        "\n",
        "    f1_scores.append(f1_score(y_val,y_pred))\n",
        "    roc_auc_scores.append(roc_auc_score(y_val,y_prob[:,1]))\n",
        "    \n",
        "  f1_scores_list.append(np.mean(f1_scores))\n",
        "  f1_std_list.append(np.std(f1_scores))\n",
        "  roc_auc_scores_list.append(np.mean(roc_auc_scores))\n",
        "  roc_auc_std_list.append(np.std(roc_auc_scores))"
      ],
      "execution_count": 21,
      "outputs": []
    },
    {
      "cell_type": "code",
      "metadata": {
        "id": "kqFMJACsEClY",
        "colab": {
          "base_uri": "https://localhost:8080/",
          "height": 625
        },
        "outputId": "97e80e54-6cab-409d-99d9-5060f9dd1021"
      },
      "source": [
        "fig = plt.figure(figsize=(20, 10))\n",
        "plt.subplot(1, 2, 1)\n",
        "plt.errorbar(list_C, f1_scores_list, yerr = f1_std_list)\n",
        "plt.xscale(\"log\")\n",
        "plt.xlabel(\"Inverse of regularization C\")\n",
        "plt.ylabel(\"F1 Scores\")\n",
        "plt.title(\"L1 Logistic F1 Scores as function of regularization strength C\")\n",
        "plt.subplot(1,2,2)\n",
        "plt.errorbar(list_C, roc_auc_scores_list, yerr = roc_auc_std_list)\n",
        "plt.xscale(\"log\")\n",
        "plt.xlabel(\"Inverse of regularization C\")\n",
        "plt.ylabel(\"ROC AUC Scores\")\n",
        "plt.title(\"L1 Logistic ROC AUC Scores as function of regularization strength C\")\n",
        "plt.show()"
      ],
      "execution_count": 22,
      "outputs": [
        {
          "output_type": "display_data",
          "data": {
            "text/plain": [
              "<Figure size 1440x720 with 2 Axes>"
            ],
            "image/png": "[encoded data removed]"
          },
          "metadata": {
            "needs_background": "light"
          }
        }
      ]
    },
    {
      "cell_type": "markdown",
      "source": [
        "The results are pretty similar than with Lasso regularization, but the models did not converge easily and we had to augment the tolerence threshold for convergence. Hence, we select the Lasso Regularization for the moment and move forward.\n",
        "\n"
      ],
      "metadata": {
        "id": "_YBr_1UokNSd"
      }
    },
    {
      "cell_type": "markdown",
      "metadata": {
        "id": "rNg3PzMUiPII"
      },
      "source": [
        "### Gradient Boosting\n",
        "\n",
        "We will now fit a gradient boosting model and compare it to the logistic one we selected."
      ]
    },
    {
      "cell_type": "code",
      "metadata": {
        "id": "QL9XmnM9P9Bn",
        "outputId": "644a040f-ae78-4d7b-97be-1c6cb2ba4e61",
        "colab": {
          "base_uri": "https://localhost:8080/"
        }
      },
      "source": [
        "f1_scores = []\n",
        "roc_auc_scores = []\n",
        "\n",
        "for index, (train_index, test_index) in enumerate(kf.split(df_prepared,df_labels_prepared)):\n",
        "  X_train,X_val = df_prepared[train_index], df_prepared[test_index]\n",
        "  y_train,y_val = df_labels_prepared[train_index], df_labels_prepared[test_index]\n",
        "\n",
        "  clf = GradientBoostingClassifier()\n",
        "  clf.fit(X_train, y_train)\n",
        "\n",
        "  y_pred = clf.predict(X_val)\n",
        "  y_prob = clf.predict_proba(X_val)\n",
        "  print(\"Fold n°\",index+1)\n",
        "  print(\"F1 Score : \" + f1_score(y_val,y_pred).astype(str))\n",
        "  print(\"ROC AUC Score : \" + roc_auc_score(y_val,y_prob[:,1]).astype(str))\n",
        "\n",
        "  f1_scores.append(f1_score(y_val,y_pred))\n",
        "  roc_auc_scores.append(roc_auc_score(y_val,y_prob[:,1]))\n",
        "\n",
        "print(\"\\nCV Finished. Final results :\\n\")\n",
        "\n",
        "print(\"Mean F1 Score :\",np.mean(f1_scores), \"+/-\",np.std(f1_scores))\n",
        "print(\"Mean ROC AUC Score :\",np.mean(roc_auc_scores), \"+/-\",np.std(roc_auc_scores))"
      ],
      "execution_count": 23,
      "outputs": [
        {
          "output_type": "stream",
          "name": "stdout",
          "text": [
            "Fold n° 1\n",
            "F1 Score : 0.5028735632183907\n",
            "ROC AUC Score : 0.809553682763839\n",
            "Fold n° 2\n",
            "F1 Score : 0.49927431059506533\n",
            "ROC AUC Score : 0.830507294044809\n",
            "Fold n° 3\n",
            "F1 Score : 0.4914772727272727\n",
            "ROC AUC Score : 0.8074178694424021\n",
            "Fold n° 4\n",
            "F1 Score : 0.5572842998585573\n",
            "ROC AUC Score : 0.8315750022699568\n",
            "Fold n° 5\n",
            "F1 Score : 0.5252525252525253\n",
            "ROC AUC Score : 0.8184768686574028\n",
            "\n",
            "CV Finished. Final results :\n",
            "\n",
            "Mean F1 Score : 0.5152323943303623 +/- 0.023834734013972493\n",
            "Mean ROC AUC Score : 0.8195061434356818 +/- 0.010128375155144488\n"
          ]
        }
      ]
    },
    {
      "cell_type": "markdown",
      "source": [
        "With the default hyperparameters, the F1 and AUC score do not look significantly better with a gradient boosting that with the previous model. We would need to tune these hyperparameters to obtain better scores, so we perform a grid search.\n"
      ],
      "metadata": {
        "id": "eIVPVlJ3lRZ4"
      }
    },
    {
      "cell_type": "code",
      "source": [
        "from sklearn.model_selection import GridSearchCV\n",
        "\n",
        "param_grid = [{'n_estimators': [20, 50, 100, 300], 'learning_rate': [0.05, 0.1, 0.2, 0.5]}] #These will be the parameters that we try\n",
        "clf = GradientBoostingClassifier()\n",
        "grid_search = GridSearchCV(clf, param_grid, scoring = [\"f1\",\"roc_auc\"], cv=5, return_train_score=True, verbose = 1, refit=\"roc_auc\") #This is a grid_search object\n",
        "grid_search.fit(df_prepared, df_labels_prepared) # We plan to have 80 rounds of training! It takes quite a long time."
      ],
      "metadata": {
        "colab": {
          "base_uri": "https://localhost:8080/"
        },
        "id": "rpBFF94klOrg",
        "outputId": "b708e0c0-53f1-410d-d2cf-82fe4da1f9a5"
      },
      "execution_count": 24,
      "outputs": [
        {
          "output_type": "stream",
          "name": "stdout",
          "text": [
            "Fitting 5 folds for each of 16 candidates, totalling 80 fits\n"
          ]
        },
        {
          "output_type": "execute_result",
          "data": {
            "text/plain": [
              "GridSearchCV(cv=5, estimator=GradientBoostingClassifier(),\n",
              "             param_grid=[{'learning_rate': [0.05, 0.1, 0.2, 0.5],\n",
              "                          'n_estimators': [20, 50, 100, 300]}],\n",
              "             refit='roc_auc', return_train_score=True,\n",
              "             scoring=['f1', 'roc_auc'], verbose=1)"
            ]
          },
          "metadata": {},
          "execution_count": 24
        }
      ]
    },
    {
      "cell_type": "code",
      "source": [
        "# This gives the best parameters\n",
        "print(\"Best hyperparameters found:\", grid_search.best_params_)\n",
        "# This gives all the results\n",
        "cvres = grid_search.cv_results_\n",
        "\n",
        "print(\"F1\", \"||\", \"AUC\", \"||\", \"Params\")\n",
        "for mean_test_f1, std_test_f1, mean_test_roc_auc, std_test_roc_auc, params in zip(cvres[\"mean_test_f1\"], cvres[\"std_test_f1\"], cvres[\"mean_test_roc_auc\"], cvres[\"std_test_roc_auc\"], cvres[\"params\"]):\n",
        "  print(mean_test_f1, \"+-\", std_test_f1, \"||\", mean_test_roc_auc, \"+-\", std_test_roc_auc, \"||\", params)"
      ],
      "metadata": {
        "colab": {
          "base_uri": "https://localhost:8080/"
        },
        "id": "T1kCpVLvma2C",
        "outputId": "5173d852-ffbc-4a27-fecd-f68162b2f172"
      },
      "execution_count": 25,
      "outputs": [
        {
          "output_type": "stream",
          "name": "stdout",
          "text": [
            "Best hyperparameters found: {'learning_rate': 0.1, 'n_estimators': 100}\n",
            "F1 || AUC || Params\n",
            "0.025497908250201828 +- 0.010421606109126494 || 0.7785069551947483 +- 0.008117178273559332 || {'learning_rate': 0.05, 'n_estimators': 20}\n",
            "0.286889011842575 +- 0.02687150257417175 || 0.8019351485366044 +- 0.010878246249351952 || {'learning_rate': 0.05, 'n_estimators': 50}\n",
            "0.43983748009011325 +- 0.03617517130588225 || 0.8148563355211238 +- 0.012170992514255206 || {'learning_rate': 0.05, 'n_estimators': 100}\n",
            "0.5274658515081958 +- 0.026861699808562914 || 0.8200861363683151 +- 0.01409387988180538 || {'learning_rate': 0.05, 'n_estimators': 300}\n",
            "0.227459625530165 +- 0.023465701908182153 || 0.7966930004682938 +- 0.011585834158189217 || {'learning_rate': 0.1, 'n_estimators': 20}\n",
            "0.4450453202010515 +- 0.03475831420837751 || 0.8147180983754605 +- 0.011840658552770958 || {'learning_rate': 0.1, 'n_estimators': 50}\n",
            "0.5099569575576894 +- 0.03437428454955022 || 0.8202786317972999 +- 0.012941786535733026 || {'learning_rate': 0.1, 'n_estimators': 100}\n",
            "0.5349581197589238 +- 0.026179368765532056 || 0.815844335831145 +- 0.014059606934238189 || {'learning_rate': 0.1, 'n_estimators': 300}\n",
            "0.402257686141804 +- 0.023885100101181143 || 0.81092835909723 +- 0.009956192237670221 || {'learning_rate': 0.2, 'n_estimators': 20}\n",
            "0.5089992004926461 +- 0.03605797406339066 || 0.8190463057289312 +- 0.013022507850765069 || {'learning_rate': 0.2, 'n_estimators': 50}\n",
            "0.5309517640802393 +- 0.033151496789052416 || 0.816953070767892 +- 0.013815809967644496 || {'learning_rate': 0.2, 'n_estimators': 100}\n",
            "0.521169389873858 +- 0.03107455055954557 || 0.8058939757042871 +- 0.01537857067564281 || {'learning_rate': 0.2, 'n_estimators': 300}\n",
            "0.5167140906226858 +- 0.023435182670688583 || 0.80846254224947 +- 0.015399425332069444 || {'learning_rate': 0.5, 'n_estimators': 20}\n",
            "0.5373216942798278 +- 0.03667091513441148 || 0.8086646409292131 +- 0.01932340617097008 || {'learning_rate': 0.5, 'n_estimators': 50}\n",
            "0.5230905688865495 +- 0.026755535859956932 || 0.7977008642241679 +- 0.018531620346668175 || {'learning_rate': 0.5, 'n_estimators': 100}\n",
            "0.5178723743820403 +- 0.025670582051070766 || 0.7812135654824903 +- 0.01794182777234251 || {'learning_rate': 0.5, 'n_estimators': 300}\n"
          ]
        }
      ]
    },
    {
      "cell_type": "markdown",
      "source": [
        "Based on these results, we would select the model 8 which has a learning rate $r=0.1$ and a number of estimators $n=300$.\n",
        "\n",
        "The scores we have are thus: \n",
        "\n",
        "$F1 = 0.54 \\pm 0.02$ and \n",
        "$AUC = 0.82 \\pm 0.01$"
      ],
      "metadata": {
        "id": "V2GpmjMMqJZ7"
      }
    },
    {
      "cell_type": "markdown",
      "metadata": {
        "id": "urQfpI4hihNU"
      },
      "source": [
        "### Random Forest\n",
        "\n",
        "Finally, we can try a random forest with different parameters."
      ]
    },
    {
      "cell_type": "code",
      "metadata": {
        "id": "QVpScnm6Qk6P",
        "outputId": "96c37d07-e816-4929-c3b2-f066059528a3",
        "colab": {
          "base_uri": "https://localhost:8080/"
        }
      },
      "source": [
        "f1_scores = []\n",
        "roc_auc_scores = []\n",
        "\n",
        "for index, (train_index, test_index) in enumerate(kf.split(df_prepared,df_labels_prepared)):\n",
        "  X_train,X_val = df_prepared[train_index], df_prepared[test_index]\n",
        "  y_train,y_val = df_labels_prepared[train_index], df_labels_prepared[test_index]\n",
        "\n",
        "  clf = RandomForestClassifier()\n",
        "  clf.fit(X_train, y_train)\n",
        "\n",
        "  y_pred = clf.predict(X_val)\n",
        "  y_prob = clf.predict_proba(X_val)\n",
        "  print(\"Fold n°\",index+1)\n",
        "  print(\"F1 Score : \" + f1_score(y_val,y_pred).astype(str))\n",
        "  print(\"ROC AUC Score : \" + roc_auc_score(y_val,y_prob[:,1]).astype(str))\n",
        "\n",
        "  f1_scores.append(f1_score(y_val,y_pred))\n",
        "  roc_auc_scores.append(roc_auc_score(y_val,y_prob[:,1]))\n",
        "\n",
        "print(\"\\nCV Finished. Final results :\\n\")\n",
        "\n",
        "print(\"Mean F1 Score :\",np.mean(f1_scores), \"+/-\",np.std(f1_scores))\n",
        "print(\"Mean ROC AUC Score :\",np.mean(roc_auc_scores), \"+/-\",np.std(roc_auc_scores))"
      ],
      "execution_count": 26,
      "outputs": [
        {
          "output_type": "stream",
          "name": "stdout",
          "text": [
            "Fold n° 1\n",
            "F1 Score : 0.44514106583072105\n",
            "ROC AUC Score : 0.7987142465573618\n",
            "Fold n° 2\n",
            "F1 Score : 0.4764795144157815\n",
            "ROC AUC Score : 0.8169088341136865\n",
            "Fold n° 3\n",
            "F1 Score : 0.466973886328725\n",
            "ROC AUC Score : 0.8083272065936616\n",
            "Fold n° 4\n",
            "F1 Score : 0.4427480916030535\n",
            "ROC AUC Score : 0.797590368428475\n",
            "Fold n° 5\n",
            "F1 Score : 0.4803625377643504\n",
            "ROC AUC Score : 0.8084813312958459\n",
            "\n",
            "CV Finished. Final results :\n",
            "\n",
            "Mean F1 Score : 0.4623410191885263 +/- 0.01565794906039026\n",
            "Mean ROC AUC Score : 0.8060043973978062 +/- 0.007132735337294175\n"
          ]
        }
      ]
    },
    {
      "cell_type": "code",
      "metadata": {
        "id": "UQPd5nwRQ-Qw",
        "outputId": "ec29c054-37f3-48f7-f071-c06513aeeb34",
        "colab": {
          "base_uri": "https://localhost:8080/"
        }
      },
      "source": [
        "from sklearn.model_selection import GridSearchCV\n",
        "\n",
        "param_grid = { 'n_estimators': [100, 200, 500], 'max_depth': [None,5,10,20]}\n",
        "clf = RandomForestClassifier()\n",
        "grid_search = GridSearchCV(clf, param_grid, scoring = [\"f1\",\"roc_auc\"], cv=5, return_train_score=True, verbose = 1, refit=\"roc_auc\") #This is a grid_search object\n",
        "grid_search.fit(df_prepared, df_labels_prepared) # We plan to have 80 rounds of training! It takes quite a long time."
      ],
      "execution_count": 27,
      "outputs": [
        {
          "output_type": "stream",
          "name": "stdout",
          "text": [
            "Fitting 5 folds for each of 12 candidates, totalling 60 fits\n"
          ]
        },
        {
          "output_type": "execute_result",
          "data": {
            "text/plain": [
              "GridSearchCV(cv=5, estimator=RandomForestClassifier(),\n",
              "             param_grid={'max_depth': [None, 5, 10, 20],\n",
              "                         'n_estimators': [100, 200, 500]},\n",
              "             refit='roc_auc', return_train_score=True,\n",
              "             scoring=['f1', 'roc_auc'], verbose=1)"
            ]
          },
          "metadata": {},
          "execution_count": 27
        }
      ]
    },
    {
      "cell_type": "code",
      "source": [
        "# This gives the best parameters\n",
        "print(\"Best hyperparameters found:\", grid_search.best_params_)\n",
        "# This gives all the results\n",
        "cvres = grid_search.cv_results_\n",
        "\n",
        "print(\"F1\", \"||\", \"AUC\", \"||\", \"Params\")\n",
        "for mean_test_f1, std_test_f1, mean_test_roc_auc, std_test_roc_auc, params in zip(cvres[\"mean_test_f1\"], cvres[\"std_test_f1\"], cvres[\"mean_test_roc_auc\"], cvres[\"std_test_roc_auc\"], cvres[\"params\"]):\n",
        "  print(mean_test_f1, \"+-\", std_test_f1, \"||\", mean_test_roc_auc, \"+-\", std_test_roc_auc, \"||\", params)"
      ],
      "metadata": {
        "colab": {
          "base_uri": "https://localhost:8080/"
        },
        "id": "FdnWUQDKCMRR",
        "outputId": "9476d9ad-c5b7-4f22-9ff6-46eea4ca46f9"
      },
      "execution_count": 28,
      "outputs": [
        {
          "output_type": "stream",
          "name": "stdout",
          "text": [
            "Best hyperparameters found: {'max_depth': 10, 'n_estimators': 500}\n",
            "F1 || AUC || Params\n",
            "0.4622310908088611 +- 0.013101479597873009 || 0.8073985040040478 +- 0.01292940480003157 || {'max_depth': None, 'n_estimators': 100}\n",
            "0.46811105605793546 +- 0.02392547227292782 || 0.8104566122264414 +- 0.00982517592898142 || {'max_depth': None, 'n_estimators': 200}\n",
            "0.4708481039028169 +- 0.027568374580868946 || 0.8122737618893027 +- 0.009579327632306235 || {'max_depth': None, 'n_estimators': 500}\n",
            "0.1840268626144253 +- 0.029243884487842747 || 0.792001199874299 +- 0.012573432205044836 || {'max_depth': 5, 'n_estimators': 100}\n",
            "0.18493508618154614 +- 0.022229675141996336 || 0.7931534922044824 +- 0.010318137624317643 || {'max_depth': 5, 'n_estimators': 200}\n",
            "0.19488384055662628 +- 0.02524101073639881 || 0.7934047295548656 +- 0.010577024041424687 || {'max_depth': 5, 'n_estimators': 500}\n",
            "0.40515814659269783 +- 0.03922533063113525 || 0.8105889063960807 +- 0.011779788907203607 || {'max_depth': 10, 'n_estimators': 100}\n",
            "0.4108479293074093 +- 0.02820564514137099 || 0.8115412405010147 +- 0.011449027210928442 || {'max_depth': 10, 'n_estimators': 200}\n",
            "0.40681797607789677 +- 0.03021155316193491 || 0.813408759370531 +- 0.009899344754547321 || {'max_depth': 10, 'n_estimators': 500}\n",
            "0.46871245144861706 +- 0.029895137363878232 || 0.8062585695209487 +- 0.010219981978627153 || {'max_depth': 20, 'n_estimators': 100}\n",
            "0.47666340993439515 +- 0.02056553139445727 || 0.8099471152679637 +- 0.010831953348460785 || {'max_depth': 20, 'n_estimators': 200}\n",
            "0.47699146659725156 +- 0.022706669020659227 || 0.8121022846999002 +- 0.011370519927238969 || {'max_depth': 20, 'n_estimators': 500}\n"
          ]
        }
      ]
    },
    {
      "cell_type": "markdown",
      "metadata": {
        "id": "7HJGLWyvUIIW"
      },
      "source": [
        "We notice that the results (regarding the F1 score and ROC AUC) are worse than with the gradient boosting model. Therefore, we won't try to finetune this model."
      ]
    },
    {
      "cell_type": "markdown",
      "source": [
        "## Final predictions"
      ],
      "metadata": {
        "id": "vyi1JZcR7Nu8"
      }
    },
    {
      "cell_type": "markdown",
      "source": [
        "The model that has given the best scores under 5-fold cross validation has been the Gradient Boosting, with a learning rate $r=0.1$ and a number of estimators $n=300$. We will fit a GradientBoosting model over the whole training set and make predictions for the test set.\n",
        "\n",
        "First, we need to preprocess the test set in the same way to the training set.\n",
        "**It is very important to be careful not to fit the transformation pipeline parameters again, and to reuse the ones derived at training time**, so that the transformation is not biased with parameters that we did not have access to at training/validation (e.g. the mean in the inputer stays the same, and the values are scaled similarly)."
      ],
      "metadata": {
        "id": "GLQV8DM8CXK2"
      }
    },
    {
      "cell_type": "code",
      "source": [
        "#Convert money amounts into numerical values\n",
        "for key in ['INCOME','HOME_VAL','BLUEBOOK','OLDCLAIM']:\n",
        "  df_test[key] = df_test[key].str.replace('$','')\n",
        "  df_test[key] = df_test[key].str.replace(',','.').astype(float)\n",
        "\n",
        "#Drop index column\n",
        "df_test_index = df_test['INDEX']\n",
        "df_test = df_test.drop(columns=['INDEX'])\n",
        "\n",
        "#Drop target columns\n",
        "df_test_features = df_test.drop(columns=['TARGET_FLAG',\"TARGET_AMT\"])\n",
        "\n",
        "#Transform using previous pipeline\n",
        "df_test_prepared = full_pipeline.transform(df_test_features)"
      ],
      "metadata": {
        "colab": {
          "base_uri": "https://localhost:8080/"
        },
        "id": "y2eaL6wyDryP",
        "outputId": "618e3c24-4414-4697-827d-5f0c7c93c7df"
      },
      "execution_count": 29,
      "outputs": [
        {
          "output_type": "stream",
          "name": "stderr",
          "text": [
            "/usr/local/lib/python3.7/dist-packages/ipykernel_launcher.py:3: FutureWarning: The default value of regex will change from True to False in a future version. In addition, single character regular expressions will *not* be treated as literal strings when regex=True.\n",
            "  This is separate from the ipykernel package so we can avoid doing imports until\n"
          ]
        }
      ]
    },
    {
      "cell_type": "markdown",
      "source": [
        "Now we can fit the gradient boosting model over the whole training set and make our final predictions:"
      ],
      "metadata": {
        "id": "G8tYUSX0GZAf"
      }
    },
    {
      "cell_type": "code",
      "source": [
        "# Sets selection\n",
        "X_train = df_prepared\n",
        "y_train = df_labels_prepared\n",
        "X_test = df_test_prepared\n",
        "\n",
        "#Fit classifier\n",
        "print(\"Fitting model...\")\n",
        "clf = GradientBoostingClassifier(n_estimators=300,learning_rate=0.1)\n",
        "clf.fit(X_train, y_train)\n",
        "\n",
        "#Make predictions\n",
        "print(\"Making predictions...\")\n",
        "y_pred = clf.predict(X_test)\n",
        "y_prob = clf.predict_proba(X_test)\n",
        "\n",
        "print(\"Predictions done.\")"
      ],
      "metadata": {
        "colab": {
          "base_uri": "https://localhost:8080/"
        },
        "id": "kNDqE6oA7NPU",
        "outputId": "ef0df068-2b05-4e55-94e8-1b2d1dcc5968"
      },
      "execution_count": 30,
      "outputs": [
        {
          "output_type": "stream",
          "name": "stdout",
          "text": [
            "Fitting model...\n",
            "Making predictions...\n",
            "Predictions done.\n"
          ]
        }
      ]
    },
    {
      "cell_type": "markdown",
      "source": [
        "We can finally generate a CSV with the predictions on the test set (indexed by the `INDEX` variable):"
      ],
      "metadata": {
        "id": "rWR-rOlKGhrW"
      }
    },
    {
      "cell_type": "code",
      "source": [
        "preds_df = pd.DataFrame(data={'INDEX': df_test_index, \"Target\": y_pred})\n",
        "preds_df.set_index('INDEX', inplace=True)"
      ],
      "metadata": {
        "id": "Hzsmj8rUIBpg"
      },
      "execution_count": 31,
      "outputs": []
    },
    {
      "cell_type": "code",
      "source": [
        "preds_df.head(10)"
      ],
      "metadata": {
        "colab": {
          "base_uri": "https://localhost:8080/",
          "height": 394
        },
        "id": "pBjYB6K5IzQW",
        "outputId": "57098b09-4791-4823-e25a-eab01e29d92c"
      },
      "execution_count": 32,
      "outputs": [
        {
          "output_type": "execute_result",
          "data": {
            "text/plain": [
              "       Target\n",
              "INDEX        \n",
              "3           0\n",
              "9           0\n",
              "10          0\n",
              "18          0\n",
              "21          0\n",
              "30          0\n",
              "31          1\n",
              "37          0\n",
              "39          0\n",
              "47          0"
            ],
            "text/html": [
              "\n",
              "  <div id=\"df-7fbd9e5a-71e1-4126-ac8f-b7296c4c89eb\">\n",
              "    <div class=\"colab-df-container\">\n",
              "      <div>\n",
              "<style scoped>\n",
              "    .dataframe tbody tr th:only-of-type {\n",
              "        vertical-align: middle;\n",
              "    }\n",
              "\n",
              "    .dataframe tbody tr th {\n",
              "        vertical-align: top;\n",
              "    }\n",
              "\n",
              "    .dataframe thead th {\n",
              "        text-align: right;\n",
              "    }\n",
              "</style>\n",
              "<table border=\"1\" class=\"dataframe\">\n",
              "  <thead>\n",
              "    <tr style=\"text-align: right;\">\n",
              "      <th></th>\n",
              "      <th>Target</th>\n",
              "    </tr>\n",
              "    <tr>\n",
              "      <th>INDEX</th>\n",
              "      <th></th>\n",
              "    </tr>\n",
              "  </thead>\n",
              "  <tbody>\n",
              "    <tr>\n",
              "      <th>3</th>\n",
              "      <td>0</td>\n",
              "    </tr>\n",
              "    <tr>\n",
              "      <th>9</th>\n",
              "      <td>0</td>\n",
              "    </tr>\n",
              "    <tr>\n",
              "      <th>10</th>\n",
              "      <td>0</td>\n",
              "    </tr>\n",
              "    <tr>\n",
              "      <th>18</th>\n",
              "      <td>0</td>\n",
              "    </tr>\n",
              "    <tr>\n",
              "      <th>21</th>\n",
              "      <td>0</td>\n",
              "    </tr>\n",
              "    <tr>\n",
              "      <th>30</th>\n",
              "      <td>0</td>\n",
              "    </tr>\n",
              "    <tr>\n",
              "      <th>31</th>\n",
              "      <td>1</td>\n",
              "    </tr>\n",
              "    <tr>\n",
              "      <th>37</th>\n",
              "      <td>0</td>\n",
              "    </tr>\n",
              "    <tr>\n",
              "      <th>39</th>\n",
              "      <td>0</td>\n",
              "    </tr>\n",
              "    <tr>\n",
              "      <th>47</th>\n",
              "      <td>0</td>\n",
              "    </tr>\n",
              "  </tbody>\n",
              "</table>\n",
              "</div>\n",
              "      <button class=\"colab-df-convert\" onclick=\"convertToInteractive('df-7fbd9e5a-71e1-4126-ac8f-b7296c4c89eb')\"\n",
              "              title=\"Convert this dataframe to an interactive table.\"\n",
              "              style=\"display:none;\">\n",
              "        \n",
              "  <svg xmlns=\"http://www.w3.org/2000/svg\" height=\"24px\"viewBox=\"0 0 24 24\"\n",
              "       width=\"24px\">\n",
              "    <path d=\"M0 0h24v24H0V0z\" fill=\"none\"/>\n",
              "    <path d=\"M18.56 5.44l.94 2.06.94-2.06 2.06-.94-2.06-.94-.94-2.06-.94 2.06-2.06.94zm-11 1L8.5 8.5l.94-2.06 2.06-.94-2.06-.94L8.5 2.5l-.94 2.06-2.06.94zm10 10l.94 2.06.94-2.06 2.06-.94-2.06-.94-.94-2.06-.94 2.06-2.06.94z\"/><path d=\"M17.41 7.96l-1.37-1.37c-.4-.4-.92-.59-1.43-.59-.52 0-1.04.2-1.43.59L10.3 9.45l-7.72 7.72c-.78.78-.78 2.05 0 2.83L4 21.41c.39.39.9.59 1.41.59.51 0 1.02-.2 1.41-.59l7.78-7.78 2.81-2.81c.8-.78.8-2.07 0-2.86zM5.41 20L4 18.59l7.72-7.72 1.47 1.35L5.41 20z\"/>\n",
              "  </svg>\n",
              "      </button>\n",
              "      \n",
              "  <style>\n",
              "    .colab-df-container {\n",
              "      display:flex;\n",
              "      flex-wrap:wrap;\n",
              "      gap: 12px;\n",
              "    }\n",
              "\n",
              "    .colab-df-convert {\n",
              "      background-color: #E8F0FE;\n",
              "      border: none;\n",
              "      border-radius: 50%;\n",
              "      cursor: pointer;\n",
              "      display: none;\n",
              "      fill: #1967D2;\n",
              "      height: 32px;\n",
              "      padding: 0 0 0 0;\n",
              "      width: 32px;\n",
              "    }\n",
              "\n",
              "    .colab-df-convert:hover {\n",
              "      background-color: #E2EBFA;\n",
              "      box-shadow: 0px 1px 2px rgba(60, 64, 67, 0.3), 0px 1px 3px 1px rgba(60, 64, 67, 0.15);\n",
              "      fill: #174EA6;\n",
              "    }\n",
              "\n",
              "    [theme=dark] .colab-df-convert {\n",
              "      background-color: #3B4455;\n",
              "      fill: #D2E3FC;\n",
              "    }\n",
              "\n",
              "    [theme=dark] .colab-df-convert:hover {\n",
              "      background-color: #434B5C;\n",
              "      box-shadow: 0px 1px 3px 1px rgba(0, 0, 0, 0.15);\n",
              "      filter: drop-shadow(0px 1px 2px rgba(0, 0, 0, 0.3));\n",
              "      fill: #FFFFFF;\n",
              "    }\n",
              "  </style>\n",
              "\n",
              "      <script>\n",
              "        const buttonEl =\n",
              "          document.querySelector('#df-7fbd9e5a-71e1-4126-ac8f-b7296c4c89eb button.colab-df-convert');\n",
              "        buttonEl.style.display =\n",
              "          google.colab.kernel.accessAllowed ? 'block' : 'none';\n",
              "\n",
              "        async function convertToInteractive(key) {\n",
              "          const element = document.querySelector('#df-7fbd9e5a-71e1-4126-ac8f-b7296c4c89eb');\n",
              "          const dataTable =\n",
              "            await google.colab.kernel.invokeFunction('convertToInteractive',\n",
              "                                                     [key], {});\n",
              "          if (!dataTable) return;\n",
              "\n",
              "          const docLinkHtml = 'Like what you see? Visit the ' +\n",
              "            '<a target=\"_blank\" href=https://colab.research.google.com/notebooks/data_table.ipynb>data table notebook</a>'\n",
              "            + ' to learn more about interactive tables.';\n",
              "          element.innerHTML = '';\n",
              "          dataTable['output_type'] = 'display_data';\n",
              "          await google.colab.output.renderOutput(dataTable, element);\n",
              "          const docLink = document.createElement('div');\n",
              "          docLink.innerHTML = docLinkHtml;\n",
              "          element.appendChild(docLink);\n",
              "        }\n",
              "      </script>\n",
              "    </div>\n",
              "  </div>\n",
              "  "
            ]
          },
          "metadata": {},
          "execution_count": 32
        }
      ]
    },
    {
      "cell_type": "code",
      "source": [
        "preds_df.to_csv(\"test_predictions.csv\")"
      ],
      "metadata": {
        "id": "ibtjduPjJIIs"
      },
      "execution_count": 33,
      "outputs": []
    },
    {
      "cell_type": "code",
      "source": [
        "with open(\"test_predictions.csv\") as csv_file:\n",
        "  for i in range(20):\n",
        "    print(csv_file.readline())"
      ],
      "metadata": {
        "colab": {
          "base_uri": "https://localhost:8080/"
        },
        "id": "07-KoXEdJOG-",
        "outputId": "71449f1a-32b9-46b1-a49e-4e5bb0e59d4f"
      },
      "execution_count": 34,
      "outputs": [
        {
          "output_type": "stream",
          "name": "stdout",
          "text": [
            "INDEX,Target\n",
            "\n",
            "3,0\n",
            "\n",
            "9,0\n",
            "\n",
            "10,0\n",
            "\n",
            "18,0\n",
            "\n",
            "21,0\n",
            "\n",
            "30,0\n",
            "\n",
            "31,1\n",
            "\n",
            "37,0\n",
            "\n",
            "39,0\n",
            "\n",
            "47,0\n",
            "\n",
            "60,0\n",
            "\n",
            "62,1\n",
            "\n",
            "63,1\n",
            "\n",
            "64,0\n",
            "\n",
            "68,0\n",
            "\n",
            "75,1\n",
            "\n",
            "76,0\n",
            "\n",
            "83,0\n",
            "\n",
            "87,1\n",
            "\n"
          ]
        }
      ]
    }
  ]
}